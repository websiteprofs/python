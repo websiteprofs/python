{
 "cells": [
  {
   "cell_type": "markdown",
   "id": "69b10466",
   "metadata": {},
   "source": [
    "This is the first workshop"
   ]
  },
  {
   "cell_type": "markdown",
   "id": "5f027913",
   "metadata": {},
   "source": [
    "#This is a level one Heading"
   ]
  },
  {
   "cell_type": "markdown",
   "id": "18aa27b2",
   "metadata": {},
   "source": [
    "#This is a level one heading"
   ]
  },
  {
   "cell_type": "markdown",
   "id": "bf9cfc69",
   "metadata": {},
   "source": [
    "# This is a level one Heading"
   ]
  },
  {
   "cell_type": "markdown",
   "id": "a60181b4",
   "metadata": {},
   "source": [
    "### This is a level 3 Heading"
   ]
  },
  {
   "cell_type": "raw",
   "id": "4e47baad",
   "metadata": {},
   "source": [
    "<html><a href=\"https://www.salford.ac.uk\">Click here</a></html>"
   ]
  },
  {
   "cell_type": "code",
   "execution_count": 2,
   "id": "416cb77e",
   "metadata": {},
   "outputs": [
    {
     "name": "stdout",
     "output_type": "stream",
     "text": [
      "Hello World!\n"
     ]
    }
   ],
   "source": [
    "print('Hello World!')"
   ]
  },
  {
   "cell_type": "code",
   "execution_count": 3,
   "id": "0f5892cb",
   "metadata": {},
   "outputs": [
    {
     "name": "stdout",
     "output_type": "stream",
     "text": [
      "10\n"
     ]
    }
   ],
   "source": [
    "print(10)"
   ]
  },
  {
   "cell_type": "code",
   "execution_count": 4,
   "id": "230a8475",
   "metadata": {},
   "outputs": [
    {
     "name": "stdout",
     "output_type": "stream",
     "text": [
      "a b c\n"
     ]
    }
   ],
   "source": [
    "print(\"a\", \"b\", \"c\")"
   ]
  },
  {
   "cell_type": "code",
   "execution_count": 7,
   "id": "940f0a03",
   "metadata": {},
   "outputs": [
    {
     "name": "stdout",
     "output_type": "stream",
     "text": [
      "a,b,c\n"
     ]
    }
   ],
   "source": [
    "print(\"a\", \"b\", \"c\", sep=\",\")"
   ]
  },
  {
   "cell_type": "code",
   "execution_count": 8,
   "id": "cd33548b",
   "metadata": {},
   "outputs": [
    {
     "name": "stdout",
     "output_type": "stream",
     "text": [
      "Hello\n",
      "world!\n"
     ]
    }
   ],
   "source": [
    "print('Hello\\nworld!')"
   ]
  },
  {
   "cell_type": "code",
   "execution_count": 10,
   "id": "101ad89a",
   "metadata": {},
   "outputs": [
    {
     "name": "stdout",
     "output_type": "stream",
     "text": [
      "Learning phyton\n"
     ]
    }
   ],
   "source": [
    "print('''Learning phyton''')"
   ]
  },
  {
   "cell_type": "code",
   "execution_count": 12,
   "id": "d349a035",
   "metadata": {},
   "outputs": [
    {
     "name": "stdout",
     "output_type": "stream",
     "text": [
      "Week1 Workshop\n"
     ]
    }
   ],
   "source": [
    "print('Week1'+' '+'Workshop')"
   ]
  },
  {
   "cell_type": "code",
   "execution_count": 13,
   "id": "6e9fb655",
   "metadata": {},
   "outputs": [
    {
     "name": "stdout",
     "output_type": "stream",
     "text": [
      "Area\n",
      "2\n",
      "3.14\n"
     ]
    }
   ],
   "source": [
    "msg='Area'\n",
    "r=2\n",
    "pi=3.14\n",
    "print(msg)\n",
    "print(r)\n",
    "print(pi)"
   ]
  },
  {
   "cell_type": "code",
   "execution_count": 14,
   "id": "74e8b946",
   "metadata": {},
   "outputs": [
    {
     "data": {
      "text/plain": [
       "str"
      ]
     },
     "execution_count": 14,
     "metadata": {},
     "output_type": "execute_result"
    }
   ],
   "source": [
    "type(msg)"
   ]
  },
  {
   "cell_type": "code",
   "execution_count": 15,
   "id": "fcd336eb",
   "metadata": {},
   "outputs": [
    {
     "data": {
      "text/plain": [
       "float"
      ]
     },
     "execution_count": 15,
     "metadata": {},
     "output_type": "execute_result"
    }
   ],
   "source": [
    "type(pi)"
   ]
  },
  {
   "cell_type": "code",
   "execution_count": 16,
   "id": "dd816f63",
   "metadata": {},
   "outputs": [],
   "source": [
    "x=str(2)"
   ]
  },
  {
   "cell_type": "code",
   "execution_count": 17,
   "id": "1be470d4",
   "metadata": {},
   "outputs": [
    {
     "data": {
      "text/plain": [
       "'2'"
      ]
     },
     "execution_count": 17,
     "metadata": {},
     "output_type": "execute_result"
    }
   ],
   "source": [
    "x"
   ]
  },
  {
   "cell_type": "code",
   "execution_count": 18,
   "id": "e1865c25",
   "metadata": {},
   "outputs": [],
   "source": [
    "y=int(2)"
   ]
  },
  {
   "cell_type": "code",
   "execution_count": 19,
   "id": "cb28ef3d",
   "metadata": {},
   "outputs": [
    {
     "data": {
      "text/plain": [
       "2"
      ]
     },
     "execution_count": 19,
     "metadata": {},
     "output_type": "execute_result"
    }
   ],
   "source": [
    "y"
   ]
  },
  {
   "cell_type": "code",
   "execution_count": 20,
   "id": "f4875606",
   "metadata": {},
   "outputs": [],
   "source": [
    "z=float(2)"
   ]
  },
  {
   "cell_type": "code",
   "execution_count": 21,
   "id": "789d801d",
   "metadata": {},
   "outputs": [
    {
     "data": {
      "text/plain": [
       "2.0"
      ]
     },
     "execution_count": 21,
     "metadata": {},
     "output_type": "execute_result"
    }
   ],
   "source": [
    "z"
   ]
  },
  {
   "cell_type": "code",
   "execution_count": 23,
   "id": "0cb20bf7",
   "metadata": {},
   "outputs": [
    {
     "name": "stdout",
     "output_type": "stream",
     "text": [
      "The addition of x and y is: 7\n",
      "The subtraction of y from x is: -1\n",
      "The multiplication of x and y is: 12\n",
      "The floating division of x and y is: 0.75\n",
      "The integer division of x and y is: 0\n",
      "The remainder of y/x: 1\n",
      "x to the power of y is: 81\n"
     ]
    }
   ],
   "source": [
    "x=3\n",
    "y=4\n",
    "add=x+y\n",
    "sub=x-y\n",
    "mul=x*y\n",
    "fdiv=x/y\n",
    "idiv=x//y\n",
    "mod=y%x\n",
    "power=x**y\n",
    "\n",
    "print('The addition of x and y is: '+str(add))\n",
    "print('The subtraction of y from x is: '+str(sub))\n",
    "print('The multiplication of x and y is: '+str(mul))\n",
    "print('The floating division of x and y is: '+str(fdiv))\n",
    "print('The integer division of x and y is: '+str(idiv))\n",
    "print('The remainder of y/x: '+str(mod))\n",
    "print('x to the power of y is: '+str(power))\n"
   ]
  },
  {
   "cell_type": "code",
   "execution_count": 24,
   "id": "d3657974",
   "metadata": {},
   "outputs": [
    {
     "name": "stdout",
     "output_type": "stream",
     "text": [
      "e1=9\n"
     ]
    }
   ],
   "source": [
    "e1=15-3*2\n",
    "print('e1',e1,sep='=')"
   ]
  },
  {
   "cell_type": "code",
   "execution_count": 25,
   "id": "34d5023a",
   "metadata": {},
   "outputs": [
    {
     "name": "stdout",
     "output_type": "stream",
     "text": [
      "sum: 11\n"
     ]
    }
   ],
   "source": [
    "#This part prints sum of two numbers\n",
    "x=5 # First operand\n",
    "y=6 #Second operand\n",
    "print('sum:', x+y)"
   ]
  },
  {
   "cell_type": "code",
   "execution_count": 26,
   "id": "e4595ee2",
   "metadata": {},
   "outputs": [],
   "source": [
    "import numpy as np"
   ]
  },
  {
   "cell_type": "code",
   "execution_count": 28,
   "id": "b247f474",
   "metadata": {},
   "outputs": [
    {
     "name": "stdout",
     "output_type": "stream",
     "text": [
      "[0 1 2 3 4 5]\n"
     ]
    }
   ],
   "source": [
    "a=np.arange(6)\n",
    "print(a)"
   ]
  },
  {
   "cell_type": "code",
   "execution_count": 29,
   "id": "62c81806",
   "metadata": {},
   "outputs": [],
   "source": [
    "import pandas as pd"
   ]
  },
  {
   "cell_type": "code",
   "execution_count": 30,
   "id": "727e86f1",
   "metadata": {},
   "outputs": [],
   "source": [
    "import sklearn"
   ]
  },
  {
   "cell_type": "code",
   "execution_count": 31,
   "id": "012d2104",
   "metadata": {},
   "outputs": [],
   "source": [
    "import matplotlib"
   ]
  },
  {
   "cell_type": "code",
   "execution_count": 32,
   "id": "6a8481f8",
   "metadata": {},
   "outputs": [],
   "source": [
    "import matplotlib.pyplot as plt"
   ]
  },
  {
   "cell_type": "code",
   "execution_count": 33,
   "id": "e1bcd006",
   "metadata": {},
   "outputs": [],
   "source": [
    "import seaborn as sns"
   ]
  },
  {
   "cell_type": "code",
   "execution_count": null,
   "id": "0acf335c",
   "metadata": {},
   "outputs": [],
   "source": []
  }
 ],
 "metadata": {
  "kernelspec": {
   "display_name": "Python 3 (ipykernel)",
   "language": "python",
   "name": "python3"
  },
  "language_info": {
   "codemirror_mode": {
    "name": "ipython",
    "version": 3
   },
   "file_extension": ".py",
   "mimetype": "text/x-python",
   "name": "python",
   "nbconvert_exporter": "python",
   "pygments_lexer": "ipython3",
   "version": "3.9.12"
  }
 },
 "nbformat": 4,
 "nbformat_minor": 5
}

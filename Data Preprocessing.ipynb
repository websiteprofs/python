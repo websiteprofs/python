{
 "cells": [
  {
   "cell_type": "code",
   "execution_count": 1,
   "id": "63d4a7eb",
   "metadata": {},
   "outputs": [
    {
     "name": "stdout",
     "output_type": "stream",
     "text": [
      "Requirement already satisfied: pandas in c:\\users\\godfrey\\anaconda3\\lib\\site-packages (1.4.2)\n",
      "Requirement already satisfied: pytz>=2020.1 in c:\\users\\godfrey\\anaconda3\\lib\\site-packages (from pandas) (2021.3)\n",
      "Requirement already satisfied: python-dateutil>=2.8.1 in c:\\users\\godfrey\\anaconda3\\lib\\site-packages (from pandas) (2.8.2)\n",
      "Requirement already satisfied: numpy>=1.18.5 in c:\\users\\godfrey\\anaconda3\\lib\\site-packages (from pandas) (1.21.5)\n",
      "Requirement already satisfied: six>=1.5 in c:\\users\\godfrey\\anaconda3\\lib\\site-packages (from python-dateutil>=2.8.1->pandas) (1.16.0)\n"
     ]
    }
   ],
   "source": [
    "!pip install pandas"
   ]
  },
  {
   "cell_type": "code",
   "execution_count": 2,
   "id": "679ec4a1",
   "metadata": {},
   "outputs": [],
   "source": [
    "import pandas as pd\n",
    "import numpy as np\n",
    "from sklearn.impute import SimpleImputer\n",
    "from sklearn import preprocessing"
   ]
  },
  {
   "cell_type": "code",
   "execution_count": 3,
   "id": "126e56a5",
   "metadata": {},
   "outputs": [],
   "source": [
    "df = pd.read_csv(\"Car Insurance.csv\")"
   ]
  },
  {
   "cell_type": "code",
   "execution_count": 4,
   "id": "1ddecac5",
   "metadata": {},
   "outputs": [
    {
     "data": {
      "text/html": [
       "<div>\n",
       "<style scoped>\n",
       "    .dataframe tbody tr th:only-of-type {\n",
       "        vertical-align: middle;\n",
       "    }\n",
       "\n",
       "    .dataframe tbody tr th {\n",
       "        vertical-align: top;\n",
       "    }\n",
       "\n",
       "    .dataframe thead th {\n",
       "        text-align: right;\n",
       "    }\n",
       "</style>\n",
       "<table border=\"1\" class=\"dataframe\">\n",
       "  <thead>\n",
       "    <tr style=\"text-align: right;\">\n",
       "      <th></th>\n",
       "      <th>Make</th>\n",
       "      <th>Age</th>\n",
       "      <th>Mileage</th>\n",
       "      <th>Fuel</th>\n",
       "      <th>Gearbox</th>\n",
       "      <th>Colour</th>\n",
       "      <th>Claimed</th>\n",
       "    </tr>\n",
       "  </thead>\n",
       "  <tbody>\n",
       "    <tr>\n",
       "      <th>0</th>\n",
       "      <td>Toyota</td>\n",
       "      <td>2.0</td>\n",
       "      <td>27000.0</td>\n",
       "      <td>P</td>\n",
       "      <td>A</td>\n",
       "      <td>Red</td>\n",
       "      <td>Yes</td>\n",
       "    </tr>\n",
       "    <tr>\n",
       "      <th>1</th>\n",
       "      <td>Ford</td>\n",
       "      <td>4.0</td>\n",
       "      <td>30500.0</td>\n",
       "      <td>P</td>\n",
       "      <td>M</td>\n",
       "      <td>Black</td>\n",
       "      <td>Yes</td>\n",
       "    </tr>\n",
       "    <tr>\n",
       "      <th>2</th>\n",
       "      <td>Toyota</td>\n",
       "      <td>15.0</td>\n",
       "      <td>120000.0</td>\n",
       "      <td>D</td>\n",
       "      <td>A</td>\n",
       "      <td>White</td>\n",
       "      <td>No</td>\n",
       "    </tr>\n",
       "    <tr>\n",
       "      <th>3</th>\n",
       "      <td>Nissan</td>\n",
       "      <td>13.0</td>\n",
       "      <td>53000.0</td>\n",
       "      <td>D</td>\n",
       "      <td>M</td>\n",
       "      <td>White</td>\n",
       "      <td>No</td>\n",
       "    </tr>\n",
       "    <tr>\n",
       "      <th>4</th>\n",
       "      <td>Nissan</td>\n",
       "      <td>2.0</td>\n",
       "      <td>NaN</td>\n",
       "      <td>D</td>\n",
       "      <td>M</td>\n",
       "      <td>Black</td>\n",
       "      <td>No</td>\n",
       "    </tr>\n",
       "    <tr>\n",
       "      <th>5</th>\n",
       "      <td>Ford</td>\n",
       "      <td>8.0</td>\n",
       "      <td>73000.0</td>\n",
       "      <td>NaN</td>\n",
       "      <td>M</td>\n",
       "      <td>Green</td>\n",
       "      <td>No</td>\n",
       "    </tr>\n",
       "    <tr>\n",
       "      <th>6</th>\n",
       "      <td>Toyota</td>\n",
       "      <td>NaN</td>\n",
       "      <td>138000.0</td>\n",
       "      <td>P</td>\n",
       "      <td>M</td>\n",
       "      <td>NaN</td>\n",
       "      <td>Yes</td>\n",
       "    </tr>\n",
       "    <tr>\n",
       "      <th>7</th>\n",
       "      <td>Nissan</td>\n",
       "      <td>20.0</td>\n",
       "      <td>38000.0</td>\n",
       "      <td>D</td>\n",
       "      <td>NaN</td>\n",
       "      <td>Green</td>\n",
       "      <td>Yes</td>\n",
       "    </tr>\n",
       "    <tr>\n",
       "      <th>8</th>\n",
       "      <td>Toyota</td>\n",
       "      <td>13.0</td>\n",
       "      <td>67000.0</td>\n",
       "      <td>D</td>\n",
       "      <td>A</td>\n",
       "      <td>Blue</td>\n",
       "      <td>No</td>\n",
       "    </tr>\n",
       "    <tr>\n",
       "      <th>9</th>\n",
       "      <td>Nissan</td>\n",
       "      <td>7.0</td>\n",
       "      <td>36000.0</td>\n",
       "      <td>P</td>\n",
       "      <td>M</td>\n",
       "      <td>Black</td>\n",
       "      <td>Yes</td>\n",
       "    </tr>\n",
       "  </tbody>\n",
       "</table>\n",
       "</div>"
      ],
      "text/plain": [
       "     Make   Age   Mileage Fuel Gearbox Colour Claimed\n",
       "0  Toyota   2.0   27000.0    P       A    Red     Yes\n",
       "1    Ford   4.0   30500.0    P       M  Black     Yes\n",
       "2  Toyota  15.0  120000.0    D       A  White      No\n",
       "3  Nissan  13.0   53000.0    D       M  White      No\n",
       "4  Nissan   2.0       NaN    D       M  Black      No\n",
       "5    Ford   8.0   73000.0  NaN       M  Green      No\n",
       "6  Toyota   NaN  138000.0    P       M    NaN     Yes\n",
       "7  Nissan  20.0   38000.0    D     NaN  Green     Yes\n",
       "8  Toyota  13.0   67000.0    D       A   Blue      No\n",
       "9  Nissan   7.0   36000.0    P       M  Black     Yes"
      ]
     },
     "execution_count": 4,
     "metadata": {},
     "output_type": "execute_result"
    }
   ],
   "source": [
    "df"
   ]
  },
  {
   "cell_type": "code",
   "execution_count": 5,
   "id": "51804c85",
   "metadata": {},
   "outputs": [
    {
     "data": {
      "text/plain": [
       "0     2.0\n",
       "1     4.0\n",
       "2    15.0\n",
       "3    13.0\n",
       "4     2.0\n",
       "5     8.0\n",
       "6     NaN\n",
       "7    20.0\n",
       "8    13.0\n",
       "9     7.0\n",
       "Name: Age, dtype: float64"
      ]
     },
     "execution_count": 5,
     "metadata": {},
     "output_type": "execute_result"
    }
   ],
   "source": [
    "df.iloc[:, 1]"
   ]
  },
  {
   "cell_type": "code",
   "execution_count": 6,
   "id": "f35d9a07",
   "metadata": {},
   "outputs": [
    {
     "data": {
      "text/plain": [
       "Make          Ford\n",
       "Age            4.0\n",
       "Mileage    30500.0\n",
       "Fuel             P\n",
       "Gearbox          M\n",
       "Colour       Black\n",
       "Claimed        Yes\n",
       "Name: 1, dtype: object"
      ]
     },
     "execution_count": 6,
     "metadata": {},
     "output_type": "execute_result"
    }
   ],
   "source": [
    "df.iloc[1]"
   ]
  },
  {
   "cell_type": "code",
   "execution_count": 7,
   "id": "f489d169",
   "metadata": {},
   "outputs": [
    {
     "data": {
      "text/plain": [
       "0      Red\n",
       "1    Black\n",
       "2    White\n",
       "3    White\n",
       "4    Black\n",
       "5    Green\n",
       "6      NaN\n",
       "7    Green\n",
       "8     Blue\n",
       "9    Black\n",
       "Name: Colour, dtype: object"
      ]
     },
     "execution_count": 7,
     "metadata": {},
     "output_type": "execute_result"
    }
   ],
   "source": [
    "df['Colour']"
   ]
  },
  {
   "cell_type": "code",
   "execution_count": 8,
   "id": "84c5a551",
   "metadata": {},
   "outputs": [
    {
     "data": {
      "text/html": [
       "<div>\n",
       "<style scoped>\n",
       "    .dataframe tbody tr th:only-of-type {\n",
       "        vertical-align: middle;\n",
       "    }\n",
       "\n",
       "    .dataframe tbody tr th {\n",
       "        vertical-align: top;\n",
       "    }\n",
       "\n",
       "    .dataframe thead th {\n",
       "        text-align: right;\n",
       "    }\n",
       "</style>\n",
       "<table border=\"1\" class=\"dataframe\">\n",
       "  <thead>\n",
       "    <tr style=\"text-align: right;\">\n",
       "      <th></th>\n",
       "      <th>Make</th>\n",
       "      <th>Age</th>\n",
       "      <th>Mileage</th>\n",
       "      <th>Fuel</th>\n",
       "      <th>Gearbox</th>\n",
       "      <th>Colour</th>\n",
       "      <th>Claimed</th>\n",
       "    </tr>\n",
       "  </thead>\n",
       "  <tbody>\n",
       "    <tr>\n",
       "      <th>0</th>\n",
       "      <td>Toyota</td>\n",
       "      <td>2.0</td>\n",
       "      <td>27000.0</td>\n",
       "      <td>P</td>\n",
       "      <td>A</td>\n",
       "      <td>Red</td>\n",
       "      <td>Yes</td>\n",
       "    </tr>\n",
       "    <tr>\n",
       "      <th>1</th>\n",
       "      <td>Ford</td>\n",
       "      <td>4.0</td>\n",
       "      <td>30500.0</td>\n",
       "      <td>P</td>\n",
       "      <td>M</td>\n",
       "      <td>Black</td>\n",
       "      <td>Yes</td>\n",
       "    </tr>\n",
       "    <tr>\n",
       "      <th>2</th>\n",
       "      <td>Toyota</td>\n",
       "      <td>15.0</td>\n",
       "      <td>120000.0</td>\n",
       "      <td>D</td>\n",
       "      <td>A</td>\n",
       "      <td>White</td>\n",
       "      <td>No</td>\n",
       "    </tr>\n",
       "    <tr>\n",
       "      <th>3</th>\n",
       "      <td>Nissan</td>\n",
       "      <td>13.0</td>\n",
       "      <td>53000.0</td>\n",
       "      <td>D</td>\n",
       "      <td>M</td>\n",
       "      <td>White</td>\n",
       "      <td>No</td>\n",
       "    </tr>\n",
       "    <tr>\n",
       "      <th>4</th>\n",
       "      <td>Nissan</td>\n",
       "      <td>2.0</td>\n",
       "      <td>NaN</td>\n",
       "      <td>D</td>\n",
       "      <td>M</td>\n",
       "      <td>Black</td>\n",
       "      <td>No</td>\n",
       "    </tr>\n",
       "    <tr>\n",
       "      <th>5</th>\n",
       "      <td>Ford</td>\n",
       "      <td>8.0</td>\n",
       "      <td>73000.0</td>\n",
       "      <td>NaN</td>\n",
       "      <td>M</td>\n",
       "      <td>Green</td>\n",
       "      <td>No</td>\n",
       "    </tr>\n",
       "    <tr>\n",
       "      <th>6</th>\n",
       "      <td>Toyota</td>\n",
       "      <td>NaN</td>\n",
       "      <td>138000.0</td>\n",
       "      <td>P</td>\n",
       "      <td>M</td>\n",
       "      <td>NaN</td>\n",
       "      <td>Yes</td>\n",
       "    </tr>\n",
       "    <tr>\n",
       "      <th>7</th>\n",
       "      <td>Nissan</td>\n",
       "      <td>20.0</td>\n",
       "      <td>38000.0</td>\n",
       "      <td>D</td>\n",
       "      <td>NaN</td>\n",
       "      <td>Green</td>\n",
       "      <td>Yes</td>\n",
       "    </tr>\n",
       "    <tr>\n",
       "      <th>8</th>\n",
       "      <td>Toyota</td>\n",
       "      <td>13.0</td>\n",
       "      <td>67000.0</td>\n",
       "      <td>D</td>\n",
       "      <td>A</td>\n",
       "      <td>Blue</td>\n",
       "      <td>No</td>\n",
       "    </tr>\n",
       "    <tr>\n",
       "      <th>9</th>\n",
       "      <td>Nissan</td>\n",
       "      <td>7.0</td>\n",
       "      <td>36000.0</td>\n",
       "      <td>P</td>\n",
       "      <td>M</td>\n",
       "      <td>Black</td>\n",
       "      <td>Yes</td>\n",
       "    </tr>\n",
       "  </tbody>\n",
       "</table>\n",
       "</div>"
      ],
      "text/plain": [
       "     Make   Age   Mileage Fuel Gearbox Colour Claimed\n",
       "0  Toyota   2.0   27000.0    P       A    Red     Yes\n",
       "1    Ford   4.0   30500.0    P       M  Black     Yes\n",
       "2  Toyota  15.0  120000.0    D       A  White      No\n",
       "3  Nissan  13.0   53000.0    D       M  White      No\n",
       "4  Nissan   2.0       NaN    D       M  Black      No\n",
       "5    Ford   8.0   73000.0  NaN       M  Green      No\n",
       "6  Toyota   NaN  138000.0    P       M    NaN     Yes\n",
       "7  Nissan  20.0   38000.0    D     NaN  Green     Yes\n",
       "8  Toyota  13.0   67000.0    D       A   Blue      No\n",
       "9  Nissan   7.0   36000.0    P       M  Black     Yes"
      ]
     },
     "execution_count": 8,
     "metadata": {},
     "output_type": "execute_result"
    }
   ],
   "source": [
    "df"
   ]
  },
  {
   "cell_type": "code",
   "execution_count": 9,
   "id": "98b62dec",
   "metadata": {},
   "outputs": [
    {
     "data": {
      "text/plain": [
       "array(['Toyota', 'Ford', 'Nissan'], dtype=object)"
      ]
     },
     "execution_count": 9,
     "metadata": {},
     "output_type": "execute_result"
    }
   ],
   "source": [
    "df.iloc[:,0].unique()"
   ]
  },
  {
   "cell_type": "code",
   "execution_count": 10,
   "id": "fe314dc1",
   "metadata": {},
   "outputs": [
    {
     "data": {
      "text/plain": [
       "array(['Toyota', 'Ford', 'Nissan'], dtype=object)"
      ]
     },
     "execution_count": 10,
     "metadata": {},
     "output_type": "execute_result"
    }
   ],
   "source": [
    "df['Make'].unique()"
   ]
  },
  {
   "cell_type": "code",
   "execution_count": 11,
   "id": "a21ce27b",
   "metadata": {},
   "outputs": [
    {
     "data": {
      "text/plain": [
       "Toyota    4\n",
       "Nissan    4\n",
       "Ford      2\n",
       "Name: Make, dtype: int64"
      ]
     },
     "execution_count": 11,
     "metadata": {},
     "output_type": "execute_result"
    }
   ],
   "source": [
    "df['Make'].value_counts()"
   ]
  },
  {
   "cell_type": "code",
   "execution_count": 12,
   "id": "e206b646",
   "metadata": {},
   "outputs": [
    {
     "data": {
      "text/plain": [
       "0    False\n",
       "1    False\n",
       "2    False\n",
       "3     True\n",
       "4     True\n",
       "5    False\n",
       "6    False\n",
       "7     True\n",
       "8    False\n",
       "9     True\n",
       "Name: Make, dtype: bool"
      ]
     },
     "execution_count": 12,
     "metadata": {},
     "output_type": "execute_result"
    }
   ],
   "source": [
    "df['Make'].isin(['Nissan'])"
   ]
  },
  {
   "cell_type": "code",
   "execution_count": 13,
   "id": "c6ede778",
   "metadata": {},
   "outputs": [
    {
     "data": {
      "text/plain": [
       "0     2.0\n",
       "4     2.0\n",
       "1     4.0\n",
       "9     7.0\n",
       "5     8.0\n",
       "3    13.0\n",
       "8    13.0\n",
       "2    15.0\n",
       "7    20.0\n",
       "6     NaN\n",
       "Name: Age, dtype: float64"
      ]
     },
     "execution_count": 13,
     "metadata": {},
     "output_type": "execute_result"
    }
   ],
   "source": [
    "df['Age'].sort_values()"
   ]
  },
  {
   "cell_type": "code",
   "execution_count": 14,
   "id": "b2d1dbbf",
   "metadata": {},
   "outputs": [
    {
     "data": {
      "text/plain": [
       "7    20.0\n",
       "2    15.0\n",
       "3    13.0\n",
       "8    13.0\n",
       "5     8.0\n",
       "9     7.0\n",
       "1     4.0\n",
       "0     2.0\n",
       "4     2.0\n",
       "6     NaN\n",
       "Name: Age, dtype: float64"
      ]
     },
     "execution_count": 14,
     "metadata": {},
     "output_type": "execute_result"
    }
   ],
   "source": [
    "df['Age'].sort_values(ascending=False)"
   ]
  },
  {
   "cell_type": "code",
   "execution_count": 15,
   "id": "9e7f2a34",
   "metadata": {},
   "outputs": [
    {
     "data": {
      "text/html": [
       "<div>\n",
       "<style scoped>\n",
       "    .dataframe tbody tr th:only-of-type {\n",
       "        vertical-align: middle;\n",
       "    }\n",
       "\n",
       "    .dataframe tbody tr th {\n",
       "        vertical-align: top;\n",
       "    }\n",
       "\n",
       "    .dataframe thead th {\n",
       "        text-align: right;\n",
       "    }\n",
       "</style>\n",
       "<table border=\"1\" class=\"dataframe\">\n",
       "  <thead>\n",
       "    <tr style=\"text-align: right;\">\n",
       "      <th></th>\n",
       "      <th>Make</th>\n",
       "      <th>Age</th>\n",
       "      <th>Mileage</th>\n",
       "      <th>Fuel</th>\n",
       "      <th>Gearbox</th>\n",
       "      <th>Colour</th>\n",
       "      <th>Claimed</th>\n",
       "    </tr>\n",
       "  </thead>\n",
       "  <tbody>\n",
       "    <tr>\n",
       "      <th>0</th>\n",
       "      <td>Toyota</td>\n",
       "      <td>2.0</td>\n",
       "      <td>27000.0</td>\n",
       "      <td>P</td>\n",
       "      <td>A</td>\n",
       "      <td>Red</td>\n",
       "      <td>Yes</td>\n",
       "    </tr>\n",
       "    <tr>\n",
       "      <th>1</th>\n",
       "      <td>Ford</td>\n",
       "      <td>4.0</td>\n",
       "      <td>30500.0</td>\n",
       "      <td>P</td>\n",
       "      <td>M</td>\n",
       "      <td>Black</td>\n",
       "      <td>Yes</td>\n",
       "    </tr>\n",
       "    <tr>\n",
       "      <th>2</th>\n",
       "      <td>Toyota</td>\n",
       "      <td>15.0</td>\n",
       "      <td>120000.0</td>\n",
       "      <td>D</td>\n",
       "      <td>A</td>\n",
       "      <td>White</td>\n",
       "      <td>No</td>\n",
       "    </tr>\n",
       "    <tr>\n",
       "      <th>3</th>\n",
       "      <td>Nissan</td>\n",
       "      <td>13.0</td>\n",
       "      <td>53000.0</td>\n",
       "      <td>D</td>\n",
       "      <td>M</td>\n",
       "      <td>White</td>\n",
       "      <td>No</td>\n",
       "    </tr>\n",
       "    <tr>\n",
       "      <th>4</th>\n",
       "      <td>Nissan</td>\n",
       "      <td>2.0</td>\n",
       "      <td>NaN</td>\n",
       "      <td>D</td>\n",
       "      <td>M</td>\n",
       "      <td>Black</td>\n",
       "      <td>No</td>\n",
       "    </tr>\n",
       "    <tr>\n",
       "      <th>5</th>\n",
       "      <td>Ford</td>\n",
       "      <td>8.0</td>\n",
       "      <td>73000.0</td>\n",
       "      <td>NaN</td>\n",
       "      <td>M</td>\n",
       "      <td>Green</td>\n",
       "      <td>No</td>\n",
       "    </tr>\n",
       "    <tr>\n",
       "      <th>6</th>\n",
       "      <td>Toyota</td>\n",
       "      <td>NaN</td>\n",
       "      <td>138000.0</td>\n",
       "      <td>P</td>\n",
       "      <td>M</td>\n",
       "      <td>NaN</td>\n",
       "      <td>Yes</td>\n",
       "    </tr>\n",
       "    <tr>\n",
       "      <th>7</th>\n",
       "      <td>Nissan</td>\n",
       "      <td>20.0</td>\n",
       "      <td>38000.0</td>\n",
       "      <td>D</td>\n",
       "      <td>NaN</td>\n",
       "      <td>Green</td>\n",
       "      <td>Yes</td>\n",
       "    </tr>\n",
       "    <tr>\n",
       "      <th>8</th>\n",
       "      <td>Toyota</td>\n",
       "      <td>13.0</td>\n",
       "      <td>67000.0</td>\n",
       "      <td>D</td>\n",
       "      <td>A</td>\n",
       "      <td>Blue</td>\n",
       "      <td>No</td>\n",
       "    </tr>\n",
       "    <tr>\n",
       "      <th>9</th>\n",
       "      <td>Nissan</td>\n",
       "      <td>7.0</td>\n",
       "      <td>36000.0</td>\n",
       "      <td>P</td>\n",
       "      <td>M</td>\n",
       "      <td>Black</td>\n",
       "      <td>Yes</td>\n",
       "    </tr>\n",
       "  </tbody>\n",
       "</table>\n",
       "</div>"
      ],
      "text/plain": [
       "     Make   Age   Mileage Fuel Gearbox Colour Claimed\n",
       "0  Toyota   2.0   27000.0    P       A    Red     Yes\n",
       "1    Ford   4.0   30500.0    P       M  Black     Yes\n",
       "2  Toyota  15.0  120000.0    D       A  White      No\n",
       "3  Nissan  13.0   53000.0    D       M  White      No\n",
       "4  Nissan   2.0       NaN    D       M  Black      No\n",
       "5    Ford   8.0   73000.0  NaN       M  Green      No\n",
       "6  Toyota   NaN  138000.0    P       M    NaN     Yes\n",
       "7  Nissan  20.0   38000.0    D     NaN  Green     Yes\n",
       "8  Toyota  13.0   67000.0    D       A   Blue      No\n",
       "9  Nissan   7.0   36000.0    P       M  Black     Yes"
      ]
     },
     "execution_count": 15,
     "metadata": {},
     "output_type": "execute_result"
    }
   ],
   "source": [
    "df"
   ]
  },
  {
   "cell_type": "code",
   "execution_count": 16,
   "id": "6198889a",
   "metadata": {},
   "outputs": [
    {
     "data": {
      "text/plain": [
       "0    False\n",
       "1    False\n",
       "2    False\n",
       "3    False\n",
       "4    False\n",
       "5    False\n",
       "6     True\n",
       "7    False\n",
       "8    False\n",
       "9    False\n",
       "Name: Age, dtype: bool"
      ]
     },
     "execution_count": 16,
     "metadata": {},
     "output_type": "execute_result"
    }
   ],
   "source": [
    "df['Age'].isnull()"
   ]
  },
  {
   "cell_type": "code",
   "execution_count": 17,
   "id": "8d0b9197",
   "metadata": {},
   "outputs": [
    {
     "data": {
      "text/plain": [
       "True"
      ]
     },
     "execution_count": 17,
     "metadata": {},
     "output_type": "execute_result"
    }
   ],
   "source": [
    "df['Age'].isnull().any()"
   ]
  },
  {
   "cell_type": "code",
   "execution_count": 18,
   "id": "5fd747be",
   "metadata": {},
   "outputs": [
    {
     "data": {
      "text/plain": [
       "0     2.0\n",
       "1     4.0\n",
       "2    15.0\n",
       "3    13.0\n",
       "4     2.0\n",
       "5     8.0\n",
       "6     NaN\n",
       "7    20.0\n",
       "8    13.0\n",
       "9     7.0\n",
       "Name: Age, dtype: float64"
      ]
     },
     "execution_count": 18,
     "metadata": {},
     "output_type": "execute_result"
    }
   ],
   "source": [
    "df.Age"
   ]
  },
  {
   "cell_type": "code",
   "execution_count": 19,
   "id": "a3408dbf",
   "metadata": {},
   "outputs": [
    {
     "data": {
      "text/plain": [
       "True"
      ]
     },
     "execution_count": 19,
     "metadata": {},
     "output_type": "execute_result"
    }
   ],
   "source": [
    "df.iloc[5,:].isnull().any()"
   ]
  },
  {
   "cell_type": "code",
   "execution_count": 20,
   "id": "fbcbd00c",
   "metadata": {},
   "outputs": [
    {
     "name": "stdout",
     "output_type": "stream",
     "text": [
      "Requirement already satisfied: scikit-learn in c:\\users\\godfrey\\anaconda3\\lib\\site-packages (1.0.2)\n",
      "Requirement already satisfied: numpy>=1.14.6 in c:\\users\\godfrey\\anaconda3\\lib\\site-packages (from scikit-learn) (1.21.5)\n",
      "Requirement already satisfied: threadpoolctl>=2.0.0 in c:\\users\\godfrey\\anaconda3\\lib\\site-packages (from scikit-learn) (2.2.0)\n",
      "Requirement already satisfied: joblib>=0.11 in c:\\users\\godfrey\\anaconda3\\lib\\site-packages (from scikit-learn) (1.1.0)\n",
      "Requirement already satisfied: scipy>=1.1.0 in c:\\users\\godfrey\\anaconda3\\lib\\site-packages (from scikit-learn) (1.7.3)\n"
     ]
    }
   ],
   "source": [
    "!pip install scikit-learn"
   ]
  },
  {
   "cell_type": "code",
   "execution_count": 21,
   "id": "936af8a5",
   "metadata": {},
   "outputs": [
    {
     "data": {
      "text/plain": [
       "Make       0\n",
       "Age        1\n",
       "Mileage    1\n",
       "Fuel       1\n",
       "Gearbox    1\n",
       "Colour     1\n",
       "Claimed    0\n",
       "dtype: int64"
      ]
     },
     "execution_count": 21,
     "metadata": {},
     "output_type": "execute_result"
    }
   ],
   "source": [
    "df.isnull().sum()"
   ]
  },
  {
   "cell_type": "code",
   "execution_count": 22,
   "id": "ca5820bd",
   "metadata": {},
   "outputs": [
    {
     "data": {
      "text/html": [
       "<div>\n",
       "<style scoped>\n",
       "    .dataframe tbody tr th:only-of-type {\n",
       "        vertical-align: middle;\n",
       "    }\n",
       "\n",
       "    .dataframe tbody tr th {\n",
       "        vertical-align: top;\n",
       "    }\n",
       "\n",
       "    .dataframe thead th {\n",
       "        text-align: right;\n",
       "    }\n",
       "</style>\n",
       "<table border=\"1\" class=\"dataframe\">\n",
       "  <thead>\n",
       "    <tr style=\"text-align: right;\">\n",
       "      <th></th>\n",
       "      <th>Make</th>\n",
       "      <th>Age</th>\n",
       "      <th>Mileage</th>\n",
       "      <th>Fuel</th>\n",
       "      <th>Gearbox</th>\n",
       "      <th>Colour</th>\n",
       "      <th>Claimed</th>\n",
       "    </tr>\n",
       "  </thead>\n",
       "  <tbody>\n",
       "    <tr>\n",
       "      <th>0</th>\n",
       "      <td>Toyota</td>\n",
       "      <td>2.0</td>\n",
       "      <td>27000.0</td>\n",
       "      <td>P</td>\n",
       "      <td>A</td>\n",
       "      <td>Red</td>\n",
       "      <td>Yes</td>\n",
       "    </tr>\n",
       "    <tr>\n",
       "      <th>1</th>\n",
       "      <td>Ford</td>\n",
       "      <td>4.0</td>\n",
       "      <td>30500.0</td>\n",
       "      <td>P</td>\n",
       "      <td>M</td>\n",
       "      <td>Black</td>\n",
       "      <td>Yes</td>\n",
       "    </tr>\n",
       "    <tr>\n",
       "      <th>2</th>\n",
       "      <td>Toyota</td>\n",
       "      <td>15.0</td>\n",
       "      <td>120000.0</td>\n",
       "      <td>D</td>\n",
       "      <td>A</td>\n",
       "      <td>White</td>\n",
       "      <td>No</td>\n",
       "    </tr>\n",
       "    <tr>\n",
       "      <th>3</th>\n",
       "      <td>Nissan</td>\n",
       "      <td>13.0</td>\n",
       "      <td>53000.0</td>\n",
       "      <td>D</td>\n",
       "      <td>M</td>\n",
       "      <td>White</td>\n",
       "      <td>No</td>\n",
       "    </tr>\n",
       "    <tr>\n",
       "      <th>4</th>\n",
       "      <td>Nissan</td>\n",
       "      <td>2.0</td>\n",
       "      <td>NaN</td>\n",
       "      <td>D</td>\n",
       "      <td>M</td>\n",
       "      <td>Black</td>\n",
       "      <td>No</td>\n",
       "    </tr>\n",
       "    <tr>\n",
       "      <th>5</th>\n",
       "      <td>Ford</td>\n",
       "      <td>8.0</td>\n",
       "      <td>73000.0</td>\n",
       "      <td>NaN</td>\n",
       "      <td>M</td>\n",
       "      <td>Green</td>\n",
       "      <td>No</td>\n",
       "    </tr>\n",
       "    <tr>\n",
       "      <th>6</th>\n",
       "      <td>Toyota</td>\n",
       "      <td>NaN</td>\n",
       "      <td>138000.0</td>\n",
       "      <td>P</td>\n",
       "      <td>M</td>\n",
       "      <td>NaN</td>\n",
       "      <td>Yes</td>\n",
       "    </tr>\n",
       "    <tr>\n",
       "      <th>7</th>\n",
       "      <td>Nissan</td>\n",
       "      <td>20.0</td>\n",
       "      <td>38000.0</td>\n",
       "      <td>D</td>\n",
       "      <td>NaN</td>\n",
       "      <td>Green</td>\n",
       "      <td>Yes</td>\n",
       "    </tr>\n",
       "    <tr>\n",
       "      <th>8</th>\n",
       "      <td>Toyota</td>\n",
       "      <td>13.0</td>\n",
       "      <td>67000.0</td>\n",
       "      <td>D</td>\n",
       "      <td>A</td>\n",
       "      <td>Blue</td>\n",
       "      <td>No</td>\n",
       "    </tr>\n",
       "    <tr>\n",
       "      <th>9</th>\n",
       "      <td>Nissan</td>\n",
       "      <td>7.0</td>\n",
       "      <td>36000.0</td>\n",
       "      <td>P</td>\n",
       "      <td>M</td>\n",
       "      <td>Black</td>\n",
       "      <td>Yes</td>\n",
       "    </tr>\n",
       "  </tbody>\n",
       "</table>\n",
       "</div>"
      ],
      "text/plain": [
       "     Make   Age   Mileage Fuel Gearbox Colour Claimed\n",
       "0  Toyota   2.0   27000.0    P       A    Red     Yes\n",
       "1    Ford   4.0   30500.0    P       M  Black     Yes\n",
       "2  Toyota  15.0  120000.0    D       A  White      No\n",
       "3  Nissan  13.0   53000.0    D       M  White      No\n",
       "4  Nissan   2.0       NaN    D       M  Black      No\n",
       "5    Ford   8.0   73000.0  NaN       M  Green      No\n",
       "6  Toyota   NaN  138000.0    P       M    NaN     Yes\n",
       "7  Nissan  20.0   38000.0    D     NaN  Green     Yes\n",
       "8  Toyota  13.0   67000.0    D       A   Blue      No\n",
       "9  Nissan   7.0   36000.0    P       M  Black     Yes"
      ]
     },
     "execution_count": 22,
     "metadata": {},
     "output_type": "execute_result"
    }
   ],
   "source": [
    "df"
   ]
  },
  {
   "cell_type": "markdown",
   "id": "9c872f26",
   "metadata": {},
   "source": [
    "Data Preprocessing: Treating Missing Values for both numerical and categorical data in the table above"
   ]
  },
  {
   "cell_type": "code",
   "execution_count": 23,
   "id": "84ad9216",
   "metadata": {
    "scrolled": true
   },
   "outputs": [
    {
     "data": {
      "text/html": [
       "<div>\n",
       "<style scoped>\n",
       "    .dataframe tbody tr th:only-of-type {\n",
       "        vertical-align: middle;\n",
       "    }\n",
       "\n",
       "    .dataframe tbody tr th {\n",
       "        vertical-align: top;\n",
       "    }\n",
       "\n",
       "    .dataframe thead th {\n",
       "        text-align: right;\n",
       "    }\n",
       "</style>\n",
       "<table border=\"1\" class=\"dataframe\">\n",
       "  <thead>\n",
       "    <tr style=\"text-align: right;\">\n",
       "      <th></th>\n",
       "      <th>Make</th>\n",
       "      <th>Age</th>\n",
       "      <th>Mileage</th>\n",
       "      <th>Fuel</th>\n",
       "      <th>Gearbox</th>\n",
       "      <th>Colour</th>\n",
       "      <th>Claimed</th>\n",
       "    </tr>\n",
       "  </thead>\n",
       "  <tbody>\n",
       "    <tr>\n",
       "      <th>0</th>\n",
       "      <td>Toyota</td>\n",
       "      <td>2.000000</td>\n",
       "      <td>27000.000000</td>\n",
       "      <td>P</td>\n",
       "      <td>A</td>\n",
       "      <td>Red</td>\n",
       "      <td>Yes</td>\n",
       "    </tr>\n",
       "    <tr>\n",
       "      <th>1</th>\n",
       "      <td>Ford</td>\n",
       "      <td>4.000000</td>\n",
       "      <td>30500.000000</td>\n",
       "      <td>P</td>\n",
       "      <td>M</td>\n",
       "      <td>Black</td>\n",
       "      <td>Yes</td>\n",
       "    </tr>\n",
       "    <tr>\n",
       "      <th>2</th>\n",
       "      <td>Toyota</td>\n",
       "      <td>15.000000</td>\n",
       "      <td>120000.000000</td>\n",
       "      <td>D</td>\n",
       "      <td>A</td>\n",
       "      <td>White</td>\n",
       "      <td>No</td>\n",
       "    </tr>\n",
       "    <tr>\n",
       "      <th>3</th>\n",
       "      <td>Nissan</td>\n",
       "      <td>13.000000</td>\n",
       "      <td>53000.000000</td>\n",
       "      <td>D</td>\n",
       "      <td>M</td>\n",
       "      <td>White</td>\n",
       "      <td>No</td>\n",
       "    </tr>\n",
       "    <tr>\n",
       "      <th>4</th>\n",
       "      <td>Nissan</td>\n",
       "      <td>2.000000</td>\n",
       "      <td>64722.222222</td>\n",
       "      <td>D</td>\n",
       "      <td>M</td>\n",
       "      <td>Black</td>\n",
       "      <td>No</td>\n",
       "    </tr>\n",
       "    <tr>\n",
       "      <th>5</th>\n",
       "      <td>Ford</td>\n",
       "      <td>8.000000</td>\n",
       "      <td>73000.000000</td>\n",
       "      <td>D</td>\n",
       "      <td>M</td>\n",
       "      <td>Green</td>\n",
       "      <td>No</td>\n",
       "    </tr>\n",
       "    <tr>\n",
       "      <th>6</th>\n",
       "      <td>Toyota</td>\n",
       "      <td>9.333333</td>\n",
       "      <td>138000.000000</td>\n",
       "      <td>P</td>\n",
       "      <td>M</td>\n",
       "      <td>Black</td>\n",
       "      <td>Yes</td>\n",
       "    </tr>\n",
       "    <tr>\n",
       "      <th>7</th>\n",
       "      <td>Nissan</td>\n",
       "      <td>20.000000</td>\n",
       "      <td>38000.000000</td>\n",
       "      <td>D</td>\n",
       "      <td>M</td>\n",
       "      <td>Green</td>\n",
       "      <td>Yes</td>\n",
       "    </tr>\n",
       "    <tr>\n",
       "      <th>8</th>\n",
       "      <td>Toyota</td>\n",
       "      <td>13.000000</td>\n",
       "      <td>67000.000000</td>\n",
       "      <td>D</td>\n",
       "      <td>A</td>\n",
       "      <td>Blue</td>\n",
       "      <td>No</td>\n",
       "    </tr>\n",
       "    <tr>\n",
       "      <th>9</th>\n",
       "      <td>Nissan</td>\n",
       "      <td>7.000000</td>\n",
       "      <td>36000.000000</td>\n",
       "      <td>P</td>\n",
       "      <td>M</td>\n",
       "      <td>Black</td>\n",
       "      <td>Yes</td>\n",
       "    </tr>\n",
       "  </tbody>\n",
       "</table>\n",
       "</div>"
      ],
      "text/plain": [
       "     Make        Age        Mileage Fuel Gearbox Colour Claimed\n",
       "0  Toyota   2.000000   27000.000000    P       A    Red     Yes\n",
       "1    Ford   4.000000   30500.000000    P       M  Black     Yes\n",
       "2  Toyota  15.000000  120000.000000    D       A  White      No\n",
       "3  Nissan  13.000000   53000.000000    D       M  White      No\n",
       "4  Nissan   2.000000   64722.222222    D       M  Black      No\n",
       "5    Ford   8.000000   73000.000000    D       M  Green      No\n",
       "6  Toyota   9.333333  138000.000000    P       M  Black     Yes\n",
       "7  Nissan  20.000000   38000.000000    D       M  Green     Yes\n",
       "8  Toyota  13.000000   67000.000000    D       A   Blue      No\n",
       "9  Nissan   7.000000   36000.000000    P       M  Black     Yes"
      ]
     },
     "execution_count": 23,
     "metadata": {},
     "output_type": "execute_result"
    }
   ],
   "source": [
    "numImputer = SimpleImputer(missing_values=np.nan, strategy='mean')\n",
    "numImputer = numImputer.fit(df[['Age', 'Mileage']])\n",
    "df[['Age', 'Mileage']] = numImputer.transform(df[['Age', 'Mileage']])\n",
    "catImputer = SimpleImputer(missing_values=np.nan, strategy='most_frequent')\n",
    "catImputer = catImputer.fit(df[['Fuel', 'Gearbox', 'Colour']])\n",
    "df[['Fuel', 'Gearbox', 'Colour']] = catImputer.transform(df[['Fuel', 'Gearbox', 'Colour']])\n",
    "df"
   ]
  },
  {
   "cell_type": "markdown",
   "id": "97593108",
   "metadata": {},
   "source": [
    "Line 24 to 28 explains, converting categorical data Field, that can take two or more possibele values using OneHotEncoder()\n",
    "The categorical variables in each column are arranged alphabetically, and forms new column header"
   ]
  },
  {
   "cell_type": "code",
   "execution_count": 24,
   "id": "552b315f",
   "metadata": {},
   "outputs": [
    {
     "data": {
      "text/plain": [
       "array([[0., 0., 1., 0., 1., 1., 0., 0., 0., 0., 1., 0., 0., 1.],\n",
       "       [1., 0., 0., 0., 1., 0., 1., 1., 0., 0., 0., 0., 0., 1.],\n",
       "       [0., 0., 1., 1., 0., 1., 0., 0., 0., 0., 0., 1., 1., 0.],\n",
       "       [0., 1., 0., 1., 0., 0., 1., 0., 0., 0., 0., 1., 1., 0.],\n",
       "       [0., 1., 0., 1., 0., 0., 1., 1., 0., 0., 0., 0., 1., 0.],\n",
       "       [1., 0., 0., 1., 0., 0., 1., 0., 0., 1., 0., 0., 1., 0.],\n",
       "       [0., 0., 1., 0., 1., 0., 1., 1., 0., 0., 0., 0., 0., 1.],\n",
       "       [0., 1., 0., 1., 0., 0., 1., 0., 0., 1., 0., 0., 0., 1.],\n",
       "       [0., 0., 1., 1., 0., 1., 0., 0., 1., 0., 0., 0., 1., 0.],\n",
       "       [0., 1., 0., 0., 1., 0., 1., 1., 0., 0., 0., 0., 0., 1.]])"
      ]
     },
     "execution_count": 24,
     "metadata": {},
     "output_type": "execute_result"
    }
   ],
   "source": [
    "enc = preprocessing.OneHotEncoder()\n",
    "enc.fit_transform(df[['Make', 'Fuel', 'Gearbox', 'Colour', 'Claimed']]). toarray()"
   ]
  },
  {
   "cell_type": "markdown",
   "id": "dd47dd14",
   "metadata": {},
   "source": [
    "The 'drop = first', is used to drop the first variable in each column after arranging alphabetically"
   ]
  },
  {
   "cell_type": "code",
   "execution_count": 25,
   "id": "5a56bd07",
   "metadata": {},
   "outputs": [
    {
     "data": {
      "text/plain": [
       "array([[0., 1., 1., 0., 0., 0., 1., 0., 1.],\n",
       "       [0., 0., 1., 1., 0., 0., 0., 0., 1.],\n",
       "       [0., 1., 0., 0., 0., 0., 0., 1., 0.],\n",
       "       [1., 0., 0., 1., 0., 0., 0., 1., 0.],\n",
       "       [1., 0., 0., 1., 0., 0., 0., 0., 0.],\n",
       "       [0., 0., 0., 1., 0., 1., 0., 0., 0.],\n",
       "       [0., 1., 1., 1., 0., 0., 0., 0., 1.],\n",
       "       [1., 0., 0., 1., 0., 1., 0., 0., 1.],\n",
       "       [0., 1., 0., 0., 1., 0., 0., 0., 0.],\n",
       "       [1., 0., 1., 1., 0., 0., 0., 0., 1.]])"
      ]
     },
     "execution_count": 25,
     "metadata": {},
     "output_type": "execute_result"
    }
   ],
   "source": [
    "enc = preprocessing.OneHotEncoder(drop = 'first')\n",
    "enc.fit_transform(df[['Make', 'Fuel', 'Gearbox', 'Colour', 'Claimed']]). toarray()"
   ]
  },
  {
   "cell_type": "code",
   "execution_count": 26,
   "id": "2b3dca39",
   "metadata": {},
   "outputs": [
    {
     "data": {
      "text/plain": [
       "[array(['Ford', 'Nissan', 'Toyota'], dtype=object),\n",
       " array(['D', 'P'], dtype=object),\n",
       " array(['A', 'M'], dtype=object),\n",
       " array(['Black', 'Blue', 'Green', 'Red', 'White'], dtype=object),\n",
       " array(['No', 'Yes'], dtype=object)]"
      ]
     },
     "execution_count": 26,
     "metadata": {},
     "output_type": "execute_result"
    }
   ],
   "source": [
    "enc.categories_"
   ]
  },
  {
   "cell_type": "markdown",
   "id": "2193c10e",
   "metadata": {},
   "source": [
    "Explanation of converting categorical data Field, that can take only two values using OneHotEncoder()"
   ]
  },
  {
   "cell_type": "code",
   "execution_count": 27,
   "id": "8f26ab29",
   "metadata": {},
   "outputs": [
    {
     "data": {
      "text/plain": [
       "array([[1.],\n",
       "       [1.],\n",
       "       [0.],\n",
       "       [0.],\n",
       "       [0.],\n",
       "       [0.],\n",
       "       [1.],\n",
       "       [1.],\n",
       "       [0.],\n",
       "       [1.]])"
      ]
     },
     "execution_count": 27,
     "metadata": {},
     "output_type": "execute_result"
    }
   ],
   "source": [
    "enc = preprocessing.OrdinalEncoder()\n",
    "enc.fit_transform(df['Claimed'].values.reshape(-1,1))"
   ]
  },
  {
   "cell_type": "code",
   "execution_count": 28,
   "id": "16c6378b",
   "metadata": {},
   "outputs": [
    {
     "data": {
      "text/plain": [
       "[array(['No', 'Yes'], dtype=object)]"
      ]
     },
     "execution_count": 28,
     "metadata": {},
     "output_type": "execute_result"
    }
   ],
   "source": [
    "enc.categories_"
   ]
  },
  {
   "cell_type": "markdown",
   "id": "0a93430d",
   "metadata": {},
   "source": [
    "Continuing from line 23, we have to convert the categorical variables to numerical variables of ('0' and '1') using\n",
    "OrdinalEncoder and OneHotEncoder"
   ]
  },
  {
   "cell_type": "code",
   "execution_count": 29,
   "id": "9f237007",
   "metadata": {},
   "outputs": [
    {
     "data": {
      "text/html": [
       "<div>\n",
       "<style scoped>\n",
       "    .dataframe tbody tr th:only-of-type {\n",
       "        vertical-align: middle;\n",
       "    }\n",
       "\n",
       "    .dataframe tbody tr th {\n",
       "        vertical-align: top;\n",
       "    }\n",
       "\n",
       "    .dataframe thead th {\n",
       "        text-align: right;\n",
       "    }\n",
       "</style>\n",
       "<table border=\"1\" class=\"dataframe\">\n",
       "  <thead>\n",
       "    <tr style=\"text-align: right;\">\n",
       "      <th></th>\n",
       "      <th>Age</th>\n",
       "      <th>Mileage</th>\n",
       "      <th>Claimed</th>\n",
       "      <th>Nissan</th>\n",
       "      <th>Toyota</th>\n",
       "      <th>P</th>\n",
       "      <th>M</th>\n",
       "      <th>Blue</th>\n",
       "      <th>Green</th>\n",
       "      <th>Red</th>\n",
       "      <th>White</th>\n",
       "    </tr>\n",
       "  </thead>\n",
       "  <tbody>\n",
       "    <tr>\n",
       "      <th>0</th>\n",
       "      <td>2.000000</td>\n",
       "      <td>27000.000000</td>\n",
       "      <td>1.0</td>\n",
       "      <td>0.0</td>\n",
       "      <td>1.0</td>\n",
       "      <td>1.0</td>\n",
       "      <td>0.0</td>\n",
       "      <td>0.0</td>\n",
       "      <td>0.0</td>\n",
       "      <td>1.0</td>\n",
       "      <td>0.0</td>\n",
       "    </tr>\n",
       "    <tr>\n",
       "      <th>1</th>\n",
       "      <td>4.000000</td>\n",
       "      <td>30500.000000</td>\n",
       "      <td>1.0</td>\n",
       "      <td>0.0</td>\n",
       "      <td>0.0</td>\n",
       "      <td>1.0</td>\n",
       "      <td>1.0</td>\n",
       "      <td>0.0</td>\n",
       "      <td>0.0</td>\n",
       "      <td>0.0</td>\n",
       "      <td>0.0</td>\n",
       "    </tr>\n",
       "    <tr>\n",
       "      <th>2</th>\n",
       "      <td>15.000000</td>\n",
       "      <td>120000.000000</td>\n",
       "      <td>0.0</td>\n",
       "      <td>0.0</td>\n",
       "      <td>1.0</td>\n",
       "      <td>0.0</td>\n",
       "      <td>0.0</td>\n",
       "      <td>0.0</td>\n",
       "      <td>0.0</td>\n",
       "      <td>0.0</td>\n",
       "      <td>1.0</td>\n",
       "    </tr>\n",
       "    <tr>\n",
       "      <th>3</th>\n",
       "      <td>13.000000</td>\n",
       "      <td>53000.000000</td>\n",
       "      <td>0.0</td>\n",
       "      <td>1.0</td>\n",
       "      <td>0.0</td>\n",
       "      <td>0.0</td>\n",
       "      <td>1.0</td>\n",
       "      <td>0.0</td>\n",
       "      <td>0.0</td>\n",
       "      <td>0.0</td>\n",
       "      <td>1.0</td>\n",
       "    </tr>\n",
       "    <tr>\n",
       "      <th>4</th>\n",
       "      <td>2.000000</td>\n",
       "      <td>64722.222222</td>\n",
       "      <td>0.0</td>\n",
       "      <td>1.0</td>\n",
       "      <td>0.0</td>\n",
       "      <td>0.0</td>\n",
       "      <td>1.0</td>\n",
       "      <td>0.0</td>\n",
       "      <td>0.0</td>\n",
       "      <td>0.0</td>\n",
       "      <td>0.0</td>\n",
       "    </tr>\n",
       "    <tr>\n",
       "      <th>5</th>\n",
       "      <td>8.000000</td>\n",
       "      <td>73000.000000</td>\n",
       "      <td>0.0</td>\n",
       "      <td>0.0</td>\n",
       "      <td>0.0</td>\n",
       "      <td>0.0</td>\n",
       "      <td>1.0</td>\n",
       "      <td>0.0</td>\n",
       "      <td>1.0</td>\n",
       "      <td>0.0</td>\n",
       "      <td>0.0</td>\n",
       "    </tr>\n",
       "    <tr>\n",
       "      <th>6</th>\n",
       "      <td>9.333333</td>\n",
       "      <td>138000.000000</td>\n",
       "      <td>1.0</td>\n",
       "      <td>0.0</td>\n",
       "      <td>1.0</td>\n",
       "      <td>1.0</td>\n",
       "      <td>1.0</td>\n",
       "      <td>0.0</td>\n",
       "      <td>0.0</td>\n",
       "      <td>0.0</td>\n",
       "      <td>0.0</td>\n",
       "    </tr>\n",
       "    <tr>\n",
       "      <th>7</th>\n",
       "      <td>20.000000</td>\n",
       "      <td>38000.000000</td>\n",
       "      <td>1.0</td>\n",
       "      <td>1.0</td>\n",
       "      <td>0.0</td>\n",
       "      <td>0.0</td>\n",
       "      <td>1.0</td>\n",
       "      <td>0.0</td>\n",
       "      <td>1.0</td>\n",
       "      <td>0.0</td>\n",
       "      <td>0.0</td>\n",
       "    </tr>\n",
       "    <tr>\n",
       "      <th>8</th>\n",
       "      <td>13.000000</td>\n",
       "      <td>67000.000000</td>\n",
       "      <td>0.0</td>\n",
       "      <td>0.0</td>\n",
       "      <td>1.0</td>\n",
       "      <td>0.0</td>\n",
       "      <td>0.0</td>\n",
       "      <td>1.0</td>\n",
       "      <td>0.0</td>\n",
       "      <td>0.0</td>\n",
       "      <td>0.0</td>\n",
       "    </tr>\n",
       "    <tr>\n",
       "      <th>9</th>\n",
       "      <td>7.000000</td>\n",
       "      <td>36000.000000</td>\n",
       "      <td>1.0</td>\n",
       "      <td>1.0</td>\n",
       "      <td>0.0</td>\n",
       "      <td>1.0</td>\n",
       "      <td>1.0</td>\n",
       "      <td>0.0</td>\n",
       "      <td>0.0</td>\n",
       "      <td>0.0</td>\n",
       "      <td>0.0</td>\n",
       "    </tr>\n",
       "  </tbody>\n",
       "</table>\n",
       "</div>"
      ],
      "text/plain": [
       "         Age        Mileage  Claimed  Nissan  Toyota    P    M  Blue  Green  \\\n",
       "0   2.000000   27000.000000      1.0     0.0     1.0  1.0  0.0   0.0    0.0   \n",
       "1   4.000000   30500.000000      1.0     0.0     0.0  1.0  1.0   0.0    0.0   \n",
       "2  15.000000  120000.000000      0.0     0.0     1.0  0.0  0.0   0.0    0.0   \n",
       "3  13.000000   53000.000000      0.0     1.0     0.0  0.0  1.0   0.0    0.0   \n",
       "4   2.000000   64722.222222      0.0     1.0     0.0  0.0  1.0   0.0    0.0   \n",
       "5   8.000000   73000.000000      0.0     0.0     0.0  0.0  1.0   0.0    1.0   \n",
       "6   9.333333  138000.000000      1.0     0.0     1.0  1.0  1.0   0.0    0.0   \n",
       "7  20.000000   38000.000000      1.0     1.0     0.0  0.0  1.0   0.0    1.0   \n",
       "8  13.000000   67000.000000      0.0     0.0     1.0  0.0  0.0   1.0    0.0   \n",
       "9   7.000000   36000.000000      1.0     1.0     0.0  1.0  1.0   0.0    0.0   \n",
       "\n",
       "   Red  White  \n",
       "0  1.0    0.0  \n",
       "1  0.0    0.0  \n",
       "2  0.0    1.0  \n",
       "3  0.0    1.0  \n",
       "4  0.0    0.0  \n",
       "5  0.0    0.0  \n",
       "6  0.0    0.0  \n",
       "7  0.0    0.0  \n",
       "8  0.0    0.0  \n",
       "9  0.0    0.0  "
      ]
     },
     "execution_count": 29,
     "metadata": {},
     "output_type": "execute_result"
    }
   ],
   "source": [
    "enc = preprocessing.OrdinalEncoder()\n",
    "df['Claimed'] = enc.fit_transform(df['Claimed'].values.reshape(-1,1))\n",
    "\n",
    "enc = preprocessing.OneHotEncoder(drop = 'first')\n",
    "onehots = enc.fit_transform(df[['Make', 'Fuel', 'Gearbox', 'Colour']]). toarray()\n",
    "\n",
    "# Creating the new df\n",
    "\n",
    "cols = []\n",
    "for i in enc.categories_:\n",
    "    i = np.delete(i,0)\n",
    "    cols.extend(i)\n",
    "df = df.join(pd.DataFrame(onehots, columns = cols))\n",
    "\n",
    "df = df.drop(['Make', 'Fuel', 'Gearbox', 'Colour'], axis = 1)\n",
    "df"
   ]
  },
  {
   "cell_type": "markdown",
   "id": "84edd4cc",
   "metadata": {},
   "source": [
    "Standardization of the data: This is because the variables are not on the same intervals, some values are large while\n",
    "others are small hence we need to standardized the data using \"StandardScaler()\" or \"MinMaxScaler()\""
   ]
  },
  {
   "cell_type": "code",
   "execution_count": 30,
   "id": "594da2b1",
   "metadata": {},
   "outputs": [],
   "source": [
    "from sklearn import preprocessing\n",
    "\n",
    "X = df.iloc[:,: -1].values\n",
    "Y = df.iloc[:, -1].values"
   ]
  },
  {
   "cell_type": "markdown",
   "id": "a562feef",
   "metadata": {},
   "source": [
    "Method 1: Using \"StandardScaler()\""
   ]
  },
  {
   "cell_type": "code",
   "execution_count": 31,
   "id": "6c8e7a67",
   "metadata": {},
   "outputs": [],
   "source": [
    "scaler = preprocessing.StandardScaler().fit(X)"
   ]
  },
  {
   "cell_type": "code",
   "execution_count": 32,
   "id": "c8e2f37d",
   "metadata": {},
   "outputs": [
    {
     "data": {
      "text/plain": [
       "array([9.33333333e+00, 6.47222222e+04, 5.00000000e-01, 4.00000000e-01,\n",
       "       4.00000000e-01, 4.00000000e-01, 7.00000000e-01, 1.00000000e-01,\n",
       "       2.00000000e-01, 1.00000000e-01])"
      ]
     },
     "execution_count": 32,
     "metadata": {},
     "output_type": "execute_result"
    }
   ],
   "source": [
    "scaler.mean_"
   ]
  },
  {
   "cell_type": "code",
   "execution_count": 33,
   "id": "a0bc4e59",
   "metadata": {},
   "outputs": [
    {
     "data": {
      "text/plain": [
       "array([5.62138773e+00, 3.57345149e+04, 5.00000000e-01, 4.89897949e-01,\n",
       "       4.89897949e-01, 4.89897949e-01, 4.58257569e-01, 3.00000000e-01,\n",
       "       4.00000000e-01, 3.00000000e-01])"
      ]
     },
     "execution_count": 33,
     "metadata": {},
     "output_type": "execute_result"
    }
   ],
   "source": [
    "scaler.scale_"
   ]
  },
  {
   "cell_type": "code",
   "execution_count": 34,
   "id": "ddc0a440",
   "metadata": {},
   "outputs": [
    {
     "data": {
      "text/plain": [
       "array([[-1.30454146e+00, -1.05562430e+00,  1.00000000e+00,\n",
       "        -8.16496581e-01,  1.22474487e+00,  1.22474487e+00,\n",
       "        -1.52752523e+00, -3.33333333e-01, -5.00000000e-01,\n",
       "         3.00000000e+00],\n",
       "       [-9.48757423e-01, -9.57679776e-01,  1.00000000e+00,\n",
       "        -8.16496581e-01, -8.16496581e-01,  1.22474487e+00,\n",
       "         6.54653671e-01, -3.33333333e-01, -5.00000000e-01,\n",
       "        -3.33333333e-01],\n",
       "       [ 1.00805476e+00,  1.54690159e+00, -1.00000000e+00,\n",
       "        -8.16496581e-01,  1.22474487e+00, -8.16496581e-01,\n",
       "        -1.52752523e+00, -3.33333333e-01, -5.00000000e-01,\n",
       "        -3.33333333e-01],\n",
       "       [ 6.52270728e-01, -3.28036417e-01, -1.00000000e+00,\n",
       "         1.22474487e+00, -8.16496581e-01, -8.16496581e-01,\n",
       "         6.54653671e-01, -3.33333333e-01, -5.00000000e-01,\n",
       "        -3.33333333e-01],\n",
       "       [-1.30454146e+00, -2.03611484e-16, -1.00000000e+00,\n",
       "         1.22474487e+00, -8.16496581e-01, -8.16496581e-01,\n",
       "         6.54653671e-01, -3.33333333e-01, -5.00000000e-01,\n",
       "        -3.33333333e-01],\n",
       "       [-2.37189356e-01,  2.31646569e-01, -1.00000000e+00,\n",
       "        -8.16496581e-01, -8.16496581e-01, -8.16496581e-01,\n",
       "         6.54653671e-01, -3.33333333e-01,  2.00000000e+00,\n",
       "        -3.33333333e-01],\n",
       "       [ 0.00000000e+00,  2.05061627e+00,  1.00000000e+00,\n",
       "        -8.16496581e-01,  1.22474487e+00,  1.22474487e+00,\n",
       "         6.54653671e-01, -3.33333333e-01, -5.00000000e-01,\n",
       "        -3.33333333e-01],\n",
       "       [ 1.89751485e+00, -7.47798656e-01,  1.00000000e+00,\n",
       "         1.22474487e+00, -8.16496581e-01, -8.16496581e-01,\n",
       "         6.54653671e-01, -3.33333333e-01,  2.00000000e+00,\n",
       "        -3.33333333e-01],\n",
       "       [ 6.52270728e-01,  6.37416734e-02, -1.00000000e+00,\n",
       "        -8.16496581e-01,  1.22474487e+00, -8.16496581e-01,\n",
       "        -1.52752523e+00,  3.00000000e+00, -5.00000000e-01,\n",
       "        -3.33333333e-01],\n",
       "       [-4.15081372e-01, -8.03766955e-01,  1.00000000e+00,\n",
       "         1.22474487e+00, -8.16496581e-01,  1.22474487e+00,\n",
       "         6.54653671e-01, -3.33333333e-01, -5.00000000e-01,\n",
       "        -3.33333333e-01]])"
      ]
     },
     "execution_count": 34,
     "metadata": {},
     "output_type": "execute_result"
    }
   ],
   "source": [
    "X_scaled = scaler.transform(X)\n",
    "X_scaled"
   ]
  },
  {
   "cell_type": "markdown",
   "id": "c81540c5",
   "metadata": {},
   "source": [
    "Method 2: An alternative standardization is scaling features to lie between a given minimum and maximum value, often between zero and one, or so that the maximum absolute value of each feature is scaled to unit size. This can be achieved using MinMaxScaler."
   ]
  },
  {
   "cell_type": "code",
   "execution_count": 35,
   "id": "6231c793",
   "metadata": {},
   "outputs": [
    {
     "data": {
      "text/plain": [
       "array([[0.        , 0.        , 1.        , 0.        , 1.        ,\n",
       "        1.        , 0.        , 0.        , 0.        , 1.        ],\n",
       "       [0.11111111, 0.03153153, 1.        , 0.        , 0.        ,\n",
       "        1.        , 1.        , 0.        , 0.        , 0.        ],\n",
       "       [0.72222222, 0.83783784, 0.        , 0.        , 1.        ,\n",
       "        0.        , 0.        , 0.        , 0.        , 0.        ],\n",
       "       [0.61111111, 0.23423423, 0.        , 1.        , 0.        ,\n",
       "        0.        , 1.        , 0.        , 0.        , 0.        ],\n",
       "       [0.        , 0.33983984, 0.        , 1.        , 0.        ,\n",
       "        0.        , 1.        , 0.        , 0.        , 0.        ],\n",
       "       [0.33333333, 0.41441441, 0.        , 0.        , 0.        ,\n",
       "        0.        , 1.        , 0.        , 1.        , 0.        ],\n",
       "       [0.40740741, 1.        , 1.        , 0.        , 1.        ,\n",
       "        1.        , 1.        , 0.        , 0.        , 0.        ],\n",
       "       [1.        , 0.0990991 , 1.        , 1.        , 0.        ,\n",
       "        0.        , 1.        , 0.        , 1.        , 0.        ],\n",
       "       [0.61111111, 0.36036036, 0.        , 0.        , 1.        ,\n",
       "        0.        , 0.        , 1.        , 0.        , 0.        ],\n",
       "       [0.27777778, 0.08108108, 1.        , 1.        , 0.        ,\n",
       "        1.        , 1.        , 0.        , 0.        , 0.        ]])"
      ]
     },
     "execution_count": 35,
     "metadata": {},
     "output_type": "execute_result"
    }
   ],
   "source": [
    "min_max_scaler = preprocessing.MinMaxScaler()\n",
    "X_minmax = min_max_scaler.fit_transform(X)\n",
    "X_minmax"
   ]
  },
  {
   "cell_type": "code",
   "execution_count": null,
   "id": "413e379a",
   "metadata": {},
   "outputs": [],
   "source": []
  }
 ],
 "metadata": {
  "kernelspec": {
   "display_name": "Python 3 (ipykernel)",
   "language": "python",
   "name": "python3"
  },
  "language_info": {
   "codemirror_mode": {
    "name": "ipython",
    "version": 3
   },
   "file_extension": ".py",
   "mimetype": "text/x-python",
   "name": "python",
   "nbconvert_exporter": "python",
   "pygments_lexer": "ipython3",
   "version": "3.9.12"
  }
 },
 "nbformat": 4,
 "nbformat_minor": 5
}

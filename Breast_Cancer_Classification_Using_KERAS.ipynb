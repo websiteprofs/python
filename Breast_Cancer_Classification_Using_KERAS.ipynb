{
  "cells": [
    {
      "cell_type": "markdown",
      "id": "aaae437a",
      "metadata": {
        "id": "aaae437a"
      },
      "source": [
        "Importing libraries"
      ]
    },
    {
      "cell_type": "code",
      "execution_count": 1,
      "id": "8c3efbe6",
      "metadata": {
        "colab": {
          "base_uri": "https://localhost:8080/"
        },
        "id": "8c3efbe6",
        "outputId": "c3ad654b-d236-4ad6-b26a-9c41053b5a4a"
      },
      "outputs": [
        {
          "output_type": "stream",
          "name": "stdout",
          "text": [
            "Looking in indexes: https://pypi.org/simple, https://us-python.pkg.dev/colab-wheels/public/simple/\n",
            "Requirement already satisfied: imblearn in /usr/local/lib/python3.7/dist-packages (0.0)\n",
            "Requirement already satisfied: imbalanced-learn in /usr/local/lib/python3.7/dist-packages (from imblearn) (0.8.1)\n",
            "Requirement already satisfied: scipy>=0.19.1 in /usr/local/lib/python3.7/dist-packages (from imbalanced-learn->imblearn) (1.7.3)\n",
            "Requirement already satisfied: scikit-learn>=0.24 in /usr/local/lib/python3.7/dist-packages (from imbalanced-learn->imblearn) (1.0.2)\n",
            "Requirement already satisfied: numpy>=1.13.3 in /usr/local/lib/python3.7/dist-packages (from imbalanced-learn->imblearn) (1.21.6)\n",
            "Requirement already satisfied: joblib>=0.11 in /usr/local/lib/python3.7/dist-packages (from imbalanced-learn->imblearn) (1.2.0)\n",
            "Requirement already satisfied: threadpoolctl>=2.0.0 in /usr/local/lib/python3.7/dist-packages (from scikit-learn>=0.24->imbalanced-learn->imblearn) (3.1.0)\n"
          ]
        }
      ],
      "source": [
        "%pip install imblearn"
      ]
    },
    {
      "cell_type": "code",
      "execution_count": 2,
      "id": "895a77ef",
      "metadata": {
        "id": "895a77ef"
      },
      "outputs": [],
      "source": [
        "import numpy as np\n",
        "import pandas as pd\n",
        "import sklearn as sk\n",
        "import matplotlib.pyplot as plt\n",
        "import seaborn as sns\n",
        "import imblearn\n",
        "from sklearn.impute import SimpleImputer\n",
        "from sklearn import preprocessing\n",
        "%matplotlib inline\n",
        "import tensorflow as tf "
      ]
    },
    {
      "cell_type": "markdown",
      "id": "b67b805d",
      "metadata": {
        "id": "b67b805d"
      },
      "source": [
        "loading dataset"
      ]
    },
    {
      "cell_type": "code",
      "execution_count": 3,
      "id": "c5aefc19",
      "metadata": {
        "id": "c5aefc19"
      },
      "outputs": [],
      "source": [
        "dataset = pd.read_csv('Breast_Cancer.csv')"
      ]
    },
    {
      "cell_type": "code",
      "execution_count": 4,
      "id": "f3c380f7",
      "metadata": {
        "colab": {
          "base_uri": "https://localhost:8080/"
        },
        "id": "f3c380f7",
        "outputId": "df9cd54d-64c2-4f4a-94e6-3036ced70b88"
      },
      "outputs": [
        {
          "output_type": "execute_result",
          "data": {
            "text/plain": [
              "(699, 11)"
            ]
          },
          "metadata": {},
          "execution_count": 4
        }
      ],
      "source": [
        "dataset.shape"
      ]
    },
    {
      "cell_type": "code",
      "execution_count": 5,
      "id": "a96ede0c",
      "metadata": {
        "colab": {
          "base_uri": "https://localhost:8080/",
          "height": 250
        },
        "id": "a96ede0c",
        "outputId": "ebf1c0b9-c32c-43a8-a2f1-8249b7eae70e"
      },
      "outputs": [
        {
          "output_type": "execute_result",
          "data": {
            "text/plain": [
              "   Code Number  Clump Thickness  Uniformity of Cell Size  \\\n",
              "0      1000025                5                        1   \n",
              "1      1002945                5                        4   \n",
              "2      1015425                3                        1   \n",
              "3      1016277                6                        8   \n",
              "4      1017023                4                        1   \n",
              "\n",
              "   Uniformity of Cell Shape  Margil Adhesion  Single Epithelial Cell Size  \\\n",
              "0                         1                1                            2   \n",
              "1                         4                5                            7   \n",
              "2                         1                1                            2   \n",
              "3                         8                1                            3   \n",
              "4                         1                3                            2   \n",
              "\n",
              "   Bare Nuclei  Bland Chromatin  Normal Nucleoli  Mitoses  Class  \n",
              "0          1.0                3                1        1      2  \n",
              "1         10.0                3                2        1      2  \n",
              "2          2.0                3                1        1      2  \n",
              "3          4.0                3                7        1      2  \n",
              "4          1.0                3                1        1      2  "
            ],
            "text/html": [
              "\n",
              "  <div id=\"df-c1a225ce-cb5e-4f2a-ba3b-40ebe1b529a0\">\n",
              "    <div class=\"colab-df-container\">\n",
              "      <div>\n",
              "<style scoped>\n",
              "    .dataframe tbody tr th:only-of-type {\n",
              "        vertical-align: middle;\n",
              "    }\n",
              "\n",
              "    .dataframe tbody tr th {\n",
              "        vertical-align: top;\n",
              "    }\n",
              "\n",
              "    .dataframe thead th {\n",
              "        text-align: right;\n",
              "    }\n",
              "</style>\n",
              "<table border=\"1\" class=\"dataframe\">\n",
              "  <thead>\n",
              "    <tr style=\"text-align: right;\">\n",
              "      <th></th>\n",
              "      <th>Code Number</th>\n",
              "      <th>Clump Thickness</th>\n",
              "      <th>Uniformity of Cell Size</th>\n",
              "      <th>Uniformity of Cell Shape</th>\n",
              "      <th>Margil Adhesion</th>\n",
              "      <th>Single Epithelial Cell Size</th>\n",
              "      <th>Bare Nuclei</th>\n",
              "      <th>Bland Chromatin</th>\n",
              "      <th>Normal Nucleoli</th>\n",
              "      <th>Mitoses</th>\n",
              "      <th>Class</th>\n",
              "    </tr>\n",
              "  </thead>\n",
              "  <tbody>\n",
              "    <tr>\n",
              "      <th>0</th>\n",
              "      <td>1000025</td>\n",
              "      <td>5</td>\n",
              "      <td>1</td>\n",
              "      <td>1</td>\n",
              "      <td>1</td>\n",
              "      <td>2</td>\n",
              "      <td>1.0</td>\n",
              "      <td>3</td>\n",
              "      <td>1</td>\n",
              "      <td>1</td>\n",
              "      <td>2</td>\n",
              "    </tr>\n",
              "    <tr>\n",
              "      <th>1</th>\n",
              "      <td>1002945</td>\n",
              "      <td>5</td>\n",
              "      <td>4</td>\n",
              "      <td>4</td>\n",
              "      <td>5</td>\n",
              "      <td>7</td>\n",
              "      <td>10.0</td>\n",
              "      <td>3</td>\n",
              "      <td>2</td>\n",
              "      <td>1</td>\n",
              "      <td>2</td>\n",
              "    </tr>\n",
              "    <tr>\n",
              "      <th>2</th>\n",
              "      <td>1015425</td>\n",
              "      <td>3</td>\n",
              "      <td>1</td>\n",
              "      <td>1</td>\n",
              "      <td>1</td>\n",
              "      <td>2</td>\n",
              "      <td>2.0</td>\n",
              "      <td>3</td>\n",
              "      <td>1</td>\n",
              "      <td>1</td>\n",
              "      <td>2</td>\n",
              "    </tr>\n",
              "    <tr>\n",
              "      <th>3</th>\n",
              "      <td>1016277</td>\n",
              "      <td>6</td>\n",
              "      <td>8</td>\n",
              "      <td>8</td>\n",
              "      <td>1</td>\n",
              "      <td>3</td>\n",
              "      <td>4.0</td>\n",
              "      <td>3</td>\n",
              "      <td>7</td>\n",
              "      <td>1</td>\n",
              "      <td>2</td>\n",
              "    </tr>\n",
              "    <tr>\n",
              "      <th>4</th>\n",
              "      <td>1017023</td>\n",
              "      <td>4</td>\n",
              "      <td>1</td>\n",
              "      <td>1</td>\n",
              "      <td>3</td>\n",
              "      <td>2</td>\n",
              "      <td>1.0</td>\n",
              "      <td>3</td>\n",
              "      <td>1</td>\n",
              "      <td>1</td>\n",
              "      <td>2</td>\n",
              "    </tr>\n",
              "  </tbody>\n",
              "</table>\n",
              "</div>\n",
              "      <button class=\"colab-df-convert\" onclick=\"convertToInteractive('df-c1a225ce-cb5e-4f2a-ba3b-40ebe1b529a0')\"\n",
              "              title=\"Convert this dataframe to an interactive table.\"\n",
              "              style=\"display:none;\">\n",
              "        \n",
              "  <svg xmlns=\"http://www.w3.org/2000/svg\" height=\"24px\"viewBox=\"0 0 24 24\"\n",
              "       width=\"24px\">\n",
              "    <path d=\"M0 0h24v24H0V0z\" fill=\"none\"/>\n",
              "    <path d=\"M18.56 5.44l.94 2.06.94-2.06 2.06-.94-2.06-.94-.94-2.06-.94 2.06-2.06.94zm-11 1L8.5 8.5l.94-2.06 2.06-.94-2.06-.94L8.5 2.5l-.94 2.06-2.06.94zm10 10l.94 2.06.94-2.06 2.06-.94-2.06-.94-.94-2.06-.94 2.06-2.06.94z\"/><path d=\"M17.41 7.96l-1.37-1.37c-.4-.4-.92-.59-1.43-.59-.52 0-1.04.2-1.43.59L10.3 9.45l-7.72 7.72c-.78.78-.78 2.05 0 2.83L4 21.41c.39.39.9.59 1.41.59.51 0 1.02-.2 1.41-.59l7.78-7.78 2.81-2.81c.8-.78.8-2.07 0-2.86zM5.41 20L4 18.59l7.72-7.72 1.47 1.35L5.41 20z\"/>\n",
              "  </svg>\n",
              "      </button>\n",
              "      \n",
              "  <style>\n",
              "    .colab-df-container {\n",
              "      display:flex;\n",
              "      flex-wrap:wrap;\n",
              "      gap: 12px;\n",
              "    }\n",
              "\n",
              "    .colab-df-convert {\n",
              "      background-color: #E8F0FE;\n",
              "      border: none;\n",
              "      border-radius: 50%;\n",
              "      cursor: pointer;\n",
              "      display: none;\n",
              "      fill: #1967D2;\n",
              "      height: 32px;\n",
              "      padding: 0 0 0 0;\n",
              "      width: 32px;\n",
              "    }\n",
              "\n",
              "    .colab-df-convert:hover {\n",
              "      background-color: #E2EBFA;\n",
              "      box-shadow: 0px 1px 2px rgba(60, 64, 67, 0.3), 0px 1px 3px 1px rgba(60, 64, 67, 0.15);\n",
              "      fill: #174EA6;\n",
              "    }\n",
              "\n",
              "    [theme=dark] .colab-df-convert {\n",
              "      background-color: #3B4455;\n",
              "      fill: #D2E3FC;\n",
              "    }\n",
              "\n",
              "    [theme=dark] .colab-df-convert:hover {\n",
              "      background-color: #434B5C;\n",
              "      box-shadow: 0px 1px 3px 1px rgba(0, 0, 0, 0.15);\n",
              "      filter: drop-shadow(0px 1px 2px rgba(0, 0, 0, 0.3));\n",
              "      fill: #FFFFFF;\n",
              "    }\n",
              "  </style>\n",
              "\n",
              "      <script>\n",
              "        const buttonEl =\n",
              "          document.querySelector('#df-c1a225ce-cb5e-4f2a-ba3b-40ebe1b529a0 button.colab-df-convert');\n",
              "        buttonEl.style.display =\n",
              "          google.colab.kernel.accessAllowed ? 'block' : 'none';\n",
              "\n",
              "        async function convertToInteractive(key) {\n",
              "          const element = document.querySelector('#df-c1a225ce-cb5e-4f2a-ba3b-40ebe1b529a0');\n",
              "          const dataTable =\n",
              "            await google.colab.kernel.invokeFunction('convertToInteractive',\n",
              "                                                     [key], {});\n",
              "          if (!dataTable) return;\n",
              "\n",
              "          const docLinkHtml = 'Like what you see? Visit the ' +\n",
              "            '<a target=\"_blank\" href=https://colab.research.google.com/notebooks/data_table.ipynb>data table notebook</a>'\n",
              "            + ' to learn more about interactive tables.';\n",
              "          element.innerHTML = '';\n",
              "          dataTable['output_type'] = 'display_data';\n",
              "          await google.colab.output.renderOutput(dataTable, element);\n",
              "          const docLink = document.createElement('div');\n",
              "          docLink.innerHTML = docLinkHtml;\n",
              "          element.appendChild(docLink);\n",
              "        }\n",
              "      </script>\n",
              "    </div>\n",
              "  </div>\n",
              "  "
            ]
          },
          "metadata": {},
          "execution_count": 5
        }
      ],
      "source": [
        "dataset.head()"
      ]
    },
    {
      "cell_type": "code",
      "execution_count": 6,
      "id": "fddb347b",
      "metadata": {
        "colab": {
          "base_uri": "https://localhost:8080/",
          "height": 250
        },
        "id": "fddb347b",
        "outputId": "af4673ea-4f6e-4cb9-85f4-61dff6f61249"
      },
      "outputs": [
        {
          "output_type": "execute_result",
          "data": {
            "text/plain": [
              "     Code Number  Clump Thickness  Uniformity of Cell Size  \\\n",
              "694       776715                3                        1   \n",
              "695       841769                2                        1   \n",
              "696       888820                5                       10   \n",
              "697       897471                4                        8   \n",
              "698       897471                4                        8   \n",
              "\n",
              "     Uniformity of Cell Shape  Margil Adhesion  Single Epithelial Cell Size  \\\n",
              "694                         1                1                            3   \n",
              "695                         1                1                            2   \n",
              "696                        10                3                            7   \n",
              "697                         6                4                            3   \n",
              "698                         8                5                            4   \n",
              "\n",
              "     Bare Nuclei  Bland Chromatin  Normal Nucleoli  Mitoses  Class  \n",
              "694          2.0                1                1        1      2  \n",
              "695          1.0                1                1        1      2  \n",
              "696          3.0                8               10        2      4  \n",
              "697          4.0               10                6        1      4  \n",
              "698          5.0               10                4        1      4  "
            ],
            "text/html": [
              "\n",
              "  <div id=\"df-52e27f85-8acc-4b3c-b024-1ccf88717a3d\">\n",
              "    <div class=\"colab-df-container\">\n",
              "      <div>\n",
              "<style scoped>\n",
              "    .dataframe tbody tr th:only-of-type {\n",
              "        vertical-align: middle;\n",
              "    }\n",
              "\n",
              "    .dataframe tbody tr th {\n",
              "        vertical-align: top;\n",
              "    }\n",
              "\n",
              "    .dataframe thead th {\n",
              "        text-align: right;\n",
              "    }\n",
              "</style>\n",
              "<table border=\"1\" class=\"dataframe\">\n",
              "  <thead>\n",
              "    <tr style=\"text-align: right;\">\n",
              "      <th></th>\n",
              "      <th>Code Number</th>\n",
              "      <th>Clump Thickness</th>\n",
              "      <th>Uniformity of Cell Size</th>\n",
              "      <th>Uniformity of Cell Shape</th>\n",
              "      <th>Margil Adhesion</th>\n",
              "      <th>Single Epithelial Cell Size</th>\n",
              "      <th>Bare Nuclei</th>\n",
              "      <th>Bland Chromatin</th>\n",
              "      <th>Normal Nucleoli</th>\n",
              "      <th>Mitoses</th>\n",
              "      <th>Class</th>\n",
              "    </tr>\n",
              "  </thead>\n",
              "  <tbody>\n",
              "    <tr>\n",
              "      <th>694</th>\n",
              "      <td>776715</td>\n",
              "      <td>3</td>\n",
              "      <td>1</td>\n",
              "      <td>1</td>\n",
              "      <td>1</td>\n",
              "      <td>3</td>\n",
              "      <td>2.0</td>\n",
              "      <td>1</td>\n",
              "      <td>1</td>\n",
              "      <td>1</td>\n",
              "      <td>2</td>\n",
              "    </tr>\n",
              "    <tr>\n",
              "      <th>695</th>\n",
              "      <td>841769</td>\n",
              "      <td>2</td>\n",
              "      <td>1</td>\n",
              "      <td>1</td>\n",
              "      <td>1</td>\n",
              "      <td>2</td>\n",
              "      <td>1.0</td>\n",
              "      <td>1</td>\n",
              "      <td>1</td>\n",
              "      <td>1</td>\n",
              "      <td>2</td>\n",
              "    </tr>\n",
              "    <tr>\n",
              "      <th>696</th>\n",
              "      <td>888820</td>\n",
              "      <td>5</td>\n",
              "      <td>10</td>\n",
              "      <td>10</td>\n",
              "      <td>3</td>\n",
              "      <td>7</td>\n",
              "      <td>3.0</td>\n",
              "      <td>8</td>\n",
              "      <td>10</td>\n",
              "      <td>2</td>\n",
              "      <td>4</td>\n",
              "    </tr>\n",
              "    <tr>\n",
              "      <th>697</th>\n",
              "      <td>897471</td>\n",
              "      <td>4</td>\n",
              "      <td>8</td>\n",
              "      <td>6</td>\n",
              "      <td>4</td>\n",
              "      <td>3</td>\n",
              "      <td>4.0</td>\n",
              "      <td>10</td>\n",
              "      <td>6</td>\n",
              "      <td>1</td>\n",
              "      <td>4</td>\n",
              "    </tr>\n",
              "    <tr>\n",
              "      <th>698</th>\n",
              "      <td>897471</td>\n",
              "      <td>4</td>\n",
              "      <td>8</td>\n",
              "      <td>8</td>\n",
              "      <td>5</td>\n",
              "      <td>4</td>\n",
              "      <td>5.0</td>\n",
              "      <td>10</td>\n",
              "      <td>4</td>\n",
              "      <td>1</td>\n",
              "      <td>4</td>\n",
              "    </tr>\n",
              "  </tbody>\n",
              "</table>\n",
              "</div>\n",
              "      <button class=\"colab-df-convert\" onclick=\"convertToInteractive('df-52e27f85-8acc-4b3c-b024-1ccf88717a3d')\"\n",
              "              title=\"Convert this dataframe to an interactive table.\"\n",
              "              style=\"display:none;\">\n",
              "        \n",
              "  <svg xmlns=\"http://www.w3.org/2000/svg\" height=\"24px\"viewBox=\"0 0 24 24\"\n",
              "       width=\"24px\">\n",
              "    <path d=\"M0 0h24v24H0V0z\" fill=\"none\"/>\n",
              "    <path d=\"M18.56 5.44l.94 2.06.94-2.06 2.06-.94-2.06-.94-.94-2.06-.94 2.06-2.06.94zm-11 1L8.5 8.5l.94-2.06 2.06-.94-2.06-.94L8.5 2.5l-.94 2.06-2.06.94zm10 10l.94 2.06.94-2.06 2.06-.94-2.06-.94-.94-2.06-.94 2.06-2.06.94z\"/><path d=\"M17.41 7.96l-1.37-1.37c-.4-.4-.92-.59-1.43-.59-.52 0-1.04.2-1.43.59L10.3 9.45l-7.72 7.72c-.78.78-.78 2.05 0 2.83L4 21.41c.39.39.9.59 1.41.59.51 0 1.02-.2 1.41-.59l7.78-7.78 2.81-2.81c.8-.78.8-2.07 0-2.86zM5.41 20L4 18.59l7.72-7.72 1.47 1.35L5.41 20z\"/>\n",
              "  </svg>\n",
              "      </button>\n",
              "      \n",
              "  <style>\n",
              "    .colab-df-container {\n",
              "      display:flex;\n",
              "      flex-wrap:wrap;\n",
              "      gap: 12px;\n",
              "    }\n",
              "\n",
              "    .colab-df-convert {\n",
              "      background-color: #E8F0FE;\n",
              "      border: none;\n",
              "      border-radius: 50%;\n",
              "      cursor: pointer;\n",
              "      display: none;\n",
              "      fill: #1967D2;\n",
              "      height: 32px;\n",
              "      padding: 0 0 0 0;\n",
              "      width: 32px;\n",
              "    }\n",
              "\n",
              "    .colab-df-convert:hover {\n",
              "      background-color: #E2EBFA;\n",
              "      box-shadow: 0px 1px 2px rgba(60, 64, 67, 0.3), 0px 1px 3px 1px rgba(60, 64, 67, 0.15);\n",
              "      fill: #174EA6;\n",
              "    }\n",
              "\n",
              "    [theme=dark] .colab-df-convert {\n",
              "      background-color: #3B4455;\n",
              "      fill: #D2E3FC;\n",
              "    }\n",
              "\n",
              "    [theme=dark] .colab-df-convert:hover {\n",
              "      background-color: #434B5C;\n",
              "      box-shadow: 0px 1px 3px 1px rgba(0, 0, 0, 0.15);\n",
              "      filter: drop-shadow(0px 1px 2px rgba(0, 0, 0, 0.3));\n",
              "      fill: #FFFFFF;\n",
              "    }\n",
              "  </style>\n",
              "\n",
              "      <script>\n",
              "        const buttonEl =\n",
              "          document.querySelector('#df-52e27f85-8acc-4b3c-b024-1ccf88717a3d button.colab-df-convert');\n",
              "        buttonEl.style.display =\n",
              "          google.colab.kernel.accessAllowed ? 'block' : 'none';\n",
              "\n",
              "        async function convertToInteractive(key) {\n",
              "          const element = document.querySelector('#df-52e27f85-8acc-4b3c-b024-1ccf88717a3d');\n",
              "          const dataTable =\n",
              "            await google.colab.kernel.invokeFunction('convertToInteractive',\n",
              "                                                     [key], {});\n",
              "          if (!dataTable) return;\n",
              "\n",
              "          const docLinkHtml = 'Like what you see? Visit the ' +\n",
              "            '<a target=\"_blank\" href=https://colab.research.google.com/notebooks/data_table.ipynb>data table notebook</a>'\n",
              "            + ' to learn more about interactive tables.';\n",
              "          element.innerHTML = '';\n",
              "          dataTable['output_type'] = 'display_data';\n",
              "          await google.colab.output.renderOutput(dataTable, element);\n",
              "          const docLink = document.createElement('div');\n",
              "          docLink.innerHTML = docLinkHtml;\n",
              "          element.appendChild(docLink);\n",
              "        }\n",
              "      </script>\n",
              "    </div>\n",
              "  </div>\n",
              "  "
            ]
          },
          "metadata": {},
          "execution_count": 6
        }
      ],
      "source": [
        "dataset.tail()"
      ]
    },
    {
      "cell_type": "code",
      "execution_count": 7,
      "id": "5f2dcaec",
      "metadata": {
        "colab": {
          "base_uri": "https://localhost:8080/"
        },
        "id": "5f2dcaec",
        "outputId": "58ddb4b9-edc4-4df0-a5a9-0c084b82b034"
      },
      "outputs": [
        {
          "output_type": "stream",
          "name": "stdout",
          "text": [
            "<class 'pandas.core.frame.DataFrame'>\n",
            "RangeIndex: 699 entries, 0 to 698\n",
            "Data columns (total 11 columns):\n",
            " #   Column                       Non-Null Count  Dtype  \n",
            "---  ------                       --------------  -----  \n",
            " 0   Code Number                  699 non-null    int64  \n",
            " 1   Clump Thickness              699 non-null    int64  \n",
            " 2   Uniformity of Cell Size      699 non-null    int64  \n",
            " 3   Uniformity of Cell Shape     699 non-null    int64  \n",
            " 4   Margil Adhesion              699 non-null    int64  \n",
            " 5   Single Epithelial Cell Size  699 non-null    int64  \n",
            " 6   Bare Nuclei                  683 non-null    float64\n",
            " 7   Bland Chromatin              699 non-null    int64  \n",
            " 8   Normal Nucleoli              699 non-null    int64  \n",
            " 9   Mitoses                      699 non-null    int64  \n",
            " 10  Class                        699 non-null    int64  \n",
            "dtypes: float64(1), int64(10)\n",
            "memory usage: 60.2 KB\n"
          ]
        }
      ],
      "source": [
        "dataset.info()"
      ]
    },
    {
      "cell_type": "markdown",
      "id": "0b2e2284",
      "metadata": {
        "id": "0b2e2284"
      },
      "source": [
        "To check for unique value in the Label(Class) column. Key: 2-Malignant, 4-Christian"
      ]
    },
    {
      "cell_type": "code",
      "execution_count": 8,
      "id": "149c7de0",
      "metadata": {
        "colab": {
          "base_uri": "https://localhost:8080/"
        },
        "id": "149c7de0",
        "outputId": "f512cd0b-33c2-44ce-cd8c-e511d7405848"
      },
      "outputs": [
        {
          "output_type": "execute_result",
          "data": {
            "text/plain": [
              "array([2, 4])"
            ]
          },
          "metadata": {},
          "execution_count": 8
        }
      ],
      "source": [
        "dataset['Class'].unique()"
      ]
    },
    {
      "cell_type": "code",
      "execution_count": 9,
      "id": "3f955b75",
      "metadata": {
        "colab": {
          "base_uri": "https://localhost:8080/",
          "height": 362
        },
        "id": "3f955b75",
        "outputId": "638f40ff-dcbc-4f14-f345-fbd97eb96f4e"
      },
      "outputs": [
        {
          "output_type": "execute_result",
          "data": {
            "text/plain": [
              "        Code Number  Clump Thickness  Uniformity of Cell Size  \\\n",
              "count  6.990000e+02       699.000000               699.000000   \n",
              "mean   1.071704e+06         4.417740                 3.134478   \n",
              "std    6.170957e+05         2.815741                 3.051459   \n",
              "min    6.163400e+04         1.000000                 1.000000   \n",
              "25%    8.706885e+05         2.000000                 1.000000   \n",
              "50%    1.171710e+06         4.000000                 1.000000   \n",
              "75%    1.238298e+06         6.000000                 5.000000   \n",
              "max    1.345435e+07        10.000000                10.000000   \n",
              "\n",
              "       Uniformity of Cell Shape  Margil Adhesion  Single Epithelial Cell Size  \\\n",
              "count                699.000000       699.000000                   699.000000   \n",
              "mean                   3.207439         2.806867                     3.216023   \n",
              "std                    2.971913         2.855379                     2.214300   \n",
              "min                    1.000000         1.000000                     1.000000   \n",
              "25%                    1.000000         1.000000                     2.000000   \n",
              "50%                    1.000000         1.000000                     2.000000   \n",
              "75%                    5.000000         4.000000                     4.000000   \n",
              "max                   10.000000        10.000000                    10.000000   \n",
              "\n",
              "       Bare Nuclei  Bland Chromatin  Normal Nucleoli     Mitoses       Class  \n",
              "count   683.000000       699.000000       699.000000  699.000000  699.000000  \n",
              "mean      3.544656         3.437768         2.866953    1.589413    2.689557  \n",
              "std       3.643857         2.438364         3.053634    1.715078    0.951273  \n",
              "min       1.000000         1.000000         1.000000    1.000000    2.000000  \n",
              "25%       1.000000         2.000000         1.000000    1.000000    2.000000  \n",
              "50%       1.000000         3.000000         1.000000    1.000000    2.000000  \n",
              "75%       6.000000         5.000000         4.000000    1.000000    4.000000  \n",
              "max      10.000000        10.000000        10.000000   10.000000    4.000000  "
            ],
            "text/html": [
              "\n",
              "  <div id=\"df-ec5bf12a-f6ee-45bb-a89b-bca1eef1db81\">\n",
              "    <div class=\"colab-df-container\">\n",
              "      <div>\n",
              "<style scoped>\n",
              "    .dataframe tbody tr th:only-of-type {\n",
              "        vertical-align: middle;\n",
              "    }\n",
              "\n",
              "    .dataframe tbody tr th {\n",
              "        vertical-align: top;\n",
              "    }\n",
              "\n",
              "    .dataframe thead th {\n",
              "        text-align: right;\n",
              "    }\n",
              "</style>\n",
              "<table border=\"1\" class=\"dataframe\">\n",
              "  <thead>\n",
              "    <tr style=\"text-align: right;\">\n",
              "      <th></th>\n",
              "      <th>Code Number</th>\n",
              "      <th>Clump Thickness</th>\n",
              "      <th>Uniformity of Cell Size</th>\n",
              "      <th>Uniformity of Cell Shape</th>\n",
              "      <th>Margil Adhesion</th>\n",
              "      <th>Single Epithelial Cell Size</th>\n",
              "      <th>Bare Nuclei</th>\n",
              "      <th>Bland Chromatin</th>\n",
              "      <th>Normal Nucleoli</th>\n",
              "      <th>Mitoses</th>\n",
              "      <th>Class</th>\n",
              "    </tr>\n",
              "  </thead>\n",
              "  <tbody>\n",
              "    <tr>\n",
              "      <th>count</th>\n",
              "      <td>6.990000e+02</td>\n",
              "      <td>699.000000</td>\n",
              "      <td>699.000000</td>\n",
              "      <td>699.000000</td>\n",
              "      <td>699.000000</td>\n",
              "      <td>699.000000</td>\n",
              "      <td>683.000000</td>\n",
              "      <td>699.000000</td>\n",
              "      <td>699.000000</td>\n",
              "      <td>699.000000</td>\n",
              "      <td>699.000000</td>\n",
              "    </tr>\n",
              "    <tr>\n",
              "      <th>mean</th>\n",
              "      <td>1.071704e+06</td>\n",
              "      <td>4.417740</td>\n",
              "      <td>3.134478</td>\n",
              "      <td>3.207439</td>\n",
              "      <td>2.806867</td>\n",
              "      <td>3.216023</td>\n",
              "      <td>3.544656</td>\n",
              "      <td>3.437768</td>\n",
              "      <td>2.866953</td>\n",
              "      <td>1.589413</td>\n",
              "      <td>2.689557</td>\n",
              "    </tr>\n",
              "    <tr>\n",
              "      <th>std</th>\n",
              "      <td>6.170957e+05</td>\n",
              "      <td>2.815741</td>\n",
              "      <td>3.051459</td>\n",
              "      <td>2.971913</td>\n",
              "      <td>2.855379</td>\n",
              "      <td>2.214300</td>\n",
              "      <td>3.643857</td>\n",
              "      <td>2.438364</td>\n",
              "      <td>3.053634</td>\n",
              "      <td>1.715078</td>\n",
              "      <td>0.951273</td>\n",
              "    </tr>\n",
              "    <tr>\n",
              "      <th>min</th>\n",
              "      <td>6.163400e+04</td>\n",
              "      <td>1.000000</td>\n",
              "      <td>1.000000</td>\n",
              "      <td>1.000000</td>\n",
              "      <td>1.000000</td>\n",
              "      <td>1.000000</td>\n",
              "      <td>1.000000</td>\n",
              "      <td>1.000000</td>\n",
              "      <td>1.000000</td>\n",
              "      <td>1.000000</td>\n",
              "      <td>2.000000</td>\n",
              "    </tr>\n",
              "    <tr>\n",
              "      <th>25%</th>\n",
              "      <td>8.706885e+05</td>\n",
              "      <td>2.000000</td>\n",
              "      <td>1.000000</td>\n",
              "      <td>1.000000</td>\n",
              "      <td>1.000000</td>\n",
              "      <td>2.000000</td>\n",
              "      <td>1.000000</td>\n",
              "      <td>2.000000</td>\n",
              "      <td>1.000000</td>\n",
              "      <td>1.000000</td>\n",
              "      <td>2.000000</td>\n",
              "    </tr>\n",
              "    <tr>\n",
              "      <th>50%</th>\n",
              "      <td>1.171710e+06</td>\n",
              "      <td>4.000000</td>\n",
              "      <td>1.000000</td>\n",
              "      <td>1.000000</td>\n",
              "      <td>1.000000</td>\n",
              "      <td>2.000000</td>\n",
              "      <td>1.000000</td>\n",
              "      <td>3.000000</td>\n",
              "      <td>1.000000</td>\n",
              "      <td>1.000000</td>\n",
              "      <td>2.000000</td>\n",
              "    </tr>\n",
              "    <tr>\n",
              "      <th>75%</th>\n",
              "      <td>1.238298e+06</td>\n",
              "      <td>6.000000</td>\n",
              "      <td>5.000000</td>\n",
              "      <td>5.000000</td>\n",
              "      <td>4.000000</td>\n",
              "      <td>4.000000</td>\n",
              "      <td>6.000000</td>\n",
              "      <td>5.000000</td>\n",
              "      <td>4.000000</td>\n",
              "      <td>1.000000</td>\n",
              "      <td>4.000000</td>\n",
              "    </tr>\n",
              "    <tr>\n",
              "      <th>max</th>\n",
              "      <td>1.345435e+07</td>\n",
              "      <td>10.000000</td>\n",
              "      <td>10.000000</td>\n",
              "      <td>10.000000</td>\n",
              "      <td>10.000000</td>\n",
              "      <td>10.000000</td>\n",
              "      <td>10.000000</td>\n",
              "      <td>10.000000</td>\n",
              "      <td>10.000000</td>\n",
              "      <td>10.000000</td>\n",
              "      <td>4.000000</td>\n",
              "    </tr>\n",
              "  </tbody>\n",
              "</table>\n",
              "</div>\n",
              "      <button class=\"colab-df-convert\" onclick=\"convertToInteractive('df-ec5bf12a-f6ee-45bb-a89b-bca1eef1db81')\"\n",
              "              title=\"Convert this dataframe to an interactive table.\"\n",
              "              style=\"display:none;\">\n",
              "        \n",
              "  <svg xmlns=\"http://www.w3.org/2000/svg\" height=\"24px\"viewBox=\"0 0 24 24\"\n",
              "       width=\"24px\">\n",
              "    <path d=\"M0 0h24v24H0V0z\" fill=\"none\"/>\n",
              "    <path d=\"M18.56 5.44l.94 2.06.94-2.06 2.06-.94-2.06-.94-.94-2.06-.94 2.06-2.06.94zm-11 1L8.5 8.5l.94-2.06 2.06-.94-2.06-.94L8.5 2.5l-.94 2.06-2.06.94zm10 10l.94 2.06.94-2.06 2.06-.94-2.06-.94-.94-2.06-.94 2.06-2.06.94z\"/><path d=\"M17.41 7.96l-1.37-1.37c-.4-.4-.92-.59-1.43-.59-.52 0-1.04.2-1.43.59L10.3 9.45l-7.72 7.72c-.78.78-.78 2.05 0 2.83L4 21.41c.39.39.9.59 1.41.59.51 0 1.02-.2 1.41-.59l7.78-7.78 2.81-2.81c.8-.78.8-2.07 0-2.86zM5.41 20L4 18.59l7.72-7.72 1.47 1.35L5.41 20z\"/>\n",
              "  </svg>\n",
              "      </button>\n",
              "      \n",
              "  <style>\n",
              "    .colab-df-container {\n",
              "      display:flex;\n",
              "      flex-wrap:wrap;\n",
              "      gap: 12px;\n",
              "    }\n",
              "\n",
              "    .colab-df-convert {\n",
              "      background-color: #E8F0FE;\n",
              "      border: none;\n",
              "      border-radius: 50%;\n",
              "      cursor: pointer;\n",
              "      display: none;\n",
              "      fill: #1967D2;\n",
              "      height: 32px;\n",
              "      padding: 0 0 0 0;\n",
              "      width: 32px;\n",
              "    }\n",
              "\n",
              "    .colab-df-convert:hover {\n",
              "      background-color: #E2EBFA;\n",
              "      box-shadow: 0px 1px 2px rgba(60, 64, 67, 0.3), 0px 1px 3px 1px rgba(60, 64, 67, 0.15);\n",
              "      fill: #174EA6;\n",
              "    }\n",
              "\n",
              "    [theme=dark] .colab-df-convert {\n",
              "      background-color: #3B4455;\n",
              "      fill: #D2E3FC;\n",
              "    }\n",
              "\n",
              "    [theme=dark] .colab-df-convert:hover {\n",
              "      background-color: #434B5C;\n",
              "      box-shadow: 0px 1px 3px 1px rgba(0, 0, 0, 0.15);\n",
              "      filter: drop-shadow(0px 1px 2px rgba(0, 0, 0, 0.3));\n",
              "      fill: #FFFFFF;\n",
              "    }\n",
              "  </style>\n",
              "\n",
              "      <script>\n",
              "        const buttonEl =\n",
              "          document.querySelector('#df-ec5bf12a-f6ee-45bb-a89b-bca1eef1db81 button.colab-df-convert');\n",
              "        buttonEl.style.display =\n",
              "          google.colab.kernel.accessAllowed ? 'block' : 'none';\n",
              "\n",
              "        async function convertToInteractive(key) {\n",
              "          const element = document.querySelector('#df-ec5bf12a-f6ee-45bb-a89b-bca1eef1db81');\n",
              "          const dataTable =\n",
              "            await google.colab.kernel.invokeFunction('convertToInteractive',\n",
              "                                                     [key], {});\n",
              "          if (!dataTable) return;\n",
              "\n",
              "          const docLinkHtml = 'Like what you see? Visit the ' +\n",
              "            '<a target=\"_blank\" href=https://colab.research.google.com/notebooks/data_table.ipynb>data table notebook</a>'\n",
              "            + ' to learn more about interactive tables.';\n",
              "          element.innerHTML = '';\n",
              "          dataTable['output_type'] = 'display_data';\n",
              "          await google.colab.output.renderOutput(dataTable, element);\n",
              "          const docLink = document.createElement('div');\n",
              "          docLink.innerHTML = docLinkHtml;\n",
              "          element.appendChild(docLink);\n",
              "        }\n",
              "      </script>\n",
              "    </div>\n",
              "  </div>\n",
              "  "
            ]
          },
          "metadata": {},
          "execution_count": 9
        }
      ],
      "source": [
        "dataset.describe(include='all')"
      ]
    },
    {
      "cell_type": "markdown",
      "id": "fcf3cbaf",
      "metadata": {
        "id": "fcf3cbaf"
      },
      "source": [
        "Check to see if there is any missing values"
      ]
    },
    {
      "cell_type": "code",
      "execution_count": 10,
      "id": "7811b1e3",
      "metadata": {
        "colab": {
          "base_uri": "https://localhost:8080/"
        },
        "id": "7811b1e3",
        "outputId": "6feb0f92-8deb-46d1-ecaa-a32c4ac45535"
      },
      "outputs": [
        {
          "output_type": "execute_result",
          "data": {
            "text/plain": [
              "Code Number                     0\n",
              "Clump Thickness                 0\n",
              "Uniformity of Cell Size         0\n",
              "Uniformity of Cell Shape        0\n",
              "Margil Adhesion                 0\n",
              "Single Epithelial Cell Size     0\n",
              "Bare Nuclei                    16\n",
              "Bland Chromatin                 0\n",
              "Normal Nucleoli                 0\n",
              "Mitoses                         0\n",
              "Class                           0\n",
              "dtype: int64"
            ]
          },
          "metadata": {},
          "execution_count": 10
        }
      ],
      "source": [
        "dataset.isnull().sum()"
      ]
    },
    {
      "cell_type": "markdown",
      "id": "45917bc3",
      "metadata": {
        "id": "45917bc3"
      },
      "source": [
        "Using  numImputter to fill missing value using mean as strategy"
      ]
    },
    {
      "cell_type": "code",
      "execution_count": 11,
      "id": "424f49e8",
      "metadata": {
        "colab": {
          "base_uri": "https://localhost:8080/"
        },
        "id": "424f49e8",
        "outputId": "eeb44e51-bfad-41cb-94c6-2f2cf0764ecb"
      },
      "outputs": [
        {
          "output_type": "execute_result",
          "data": {
            "text/plain": [
              "Code Number                    0\n",
              "Clump Thickness                0\n",
              "Uniformity of Cell Size        0\n",
              "Uniformity of Cell Shape       0\n",
              "Margil Adhesion                0\n",
              "Single Epithelial Cell Size    0\n",
              "Bare Nuclei                    0\n",
              "Bland Chromatin                0\n",
              "Normal Nucleoli                0\n",
              "Mitoses                        0\n",
              "Class                          0\n",
              "dtype: int64"
            ]
          },
          "metadata": {},
          "execution_count": 11
        }
      ],
      "source": [
        "numImputer = SimpleImputer(missing_values=np.nan, strategy='mean')\n",
        "numImputer = numImputer.fit(dataset[['Bare Nuclei']])\n",
        "dataset[['Bare Nuclei']] = numImputer.transform(dataset[['Bare Nuclei']])\n",
        "dataset.isnull().sum()"
      ]
    },
    {
      "cell_type": "code",
      "execution_count": 12,
      "id": "b961cffe",
      "metadata": {
        "colab": {
          "base_uri": "https://localhost:8080/",
          "height": 422
        },
        "id": "b961cffe",
        "outputId": "6d5b76c5-b040-400f-daff-e29cb4773c0a"
      },
      "outputs": [
        {
          "output_type": "stream",
          "name": "stderr",
          "text": [
            "/usr/local/lib/python3.7/dist-packages/seaborn/_decorators.py:43: FutureWarning: Pass the following variable as a keyword arg: x. From version 0.12, the only valid positional argument will be `data`, and passing other arguments without an explicit keyword will result in an error or misinterpretation.\n",
            "  FutureWarning\n"
          ]
        },
        {
          "output_type": "execute_result",
          "data": {
            "text/plain": [
              "<function matplotlib.pyplot.show(*args, **kw)>"
            ]
          },
          "metadata": {},
          "execution_count": 12
        },
        {
          "output_type": "display_data",
          "data": {
            "text/plain": [
              "<Figure size 720x360 with 1 Axes>"
            ],
            "image/png": "[encoded data removed]"
          },
          "metadata": {
            "needs_background": "light"
          }
        }
      ],
      "source": [
        "plt.figure(figsize=(10, 5))\n",
        "sns.countplot(dataset.Class)\n",
        "plt.title('Breast Cancer Analysis')\n",
        "plt.show"
      ]
    },
    {
      "cell_type": "code",
      "execution_count": 13,
      "id": "74975e85",
      "metadata": {
        "colab": {
          "base_uri": "https://localhost:8080/",
          "height": 493
        },
        "id": "74975e85",
        "outputId": "02628f12-21b9-4624-f2f1-afc9507ccf9f"
      },
      "outputs": [
        {
          "output_type": "stream",
          "name": "stderr",
          "text": [
            "/usr/local/lib/python3.7/dist-packages/seaborn/axisgrid.py:337: UserWarning: The `size` parameter has been renamed to `height`; please update your code.\n",
            "  warnings.warn(msg, UserWarning)\n"
          ]
        },
        {
          "output_type": "execute_result",
          "data": {
            "text/plain": [
              "<seaborn.axisgrid.FacetGrid at 0x7fa034eea5d0>"
            ]
          },
          "metadata": {},
          "execution_count": 13
        },
        {
          "output_type": "display_data",
          "data": {
            "text/plain": [
              "<Figure size 474.375x432 with 1 Axes>"
            ],
            "image/png": "[encoded data removed]"
          },
          "metadata": {}
        }
      ],
      "source": [
        "sns.set_style('whitegrid')\n",
        "sns.FacetGrid(dataset, hue = 'Class', size = 6).map(plt.scatter, 'Clump Thickness', 'Mitoses').add_legend()"
      ]
    },
    {
      "cell_type": "markdown",
      "id": "78c8cfbe",
      "metadata": {
        "id": "78c8cfbe"
      },
      "source": [
        "Determining the input feature and the class feature in the dataset"
      ]
    },
    {
      "cell_type": "code",
      "execution_count": 14,
      "id": "8208047d",
      "metadata": {
        "id": "8208047d"
      },
      "outputs": [],
      "source": [
        "X = dataset.iloc[:, [1,2,3,4,5,6,7,8,9]].values\n",
        "y = dataset.iloc[:, 10].values"
      ]
    },
    {
      "cell_type": "markdown",
      "id": "b19973af",
      "metadata": {
        "id": "b19973af"
      },
      "source": [
        "Splitting the dataset into test and training dataset"
      ]
    },
    {
      "cell_type": "code",
      "execution_count": 15,
      "id": "5c3aa4a5",
      "metadata": {
        "id": "5c3aa4a5"
      },
      "outputs": [],
      "source": [
        "from sklearn.model_selection import train_test_split\n",
        "X_train, X_test, y_train, y_test = train_test_split(X, y, test_size = 0.3, random_state = 0)"
      ]
    },
    {
      "cell_type": "markdown",
      "id": "05cbf8fe",
      "metadata": {
        "id": "05cbf8fe"
      },
      "source": [
        "Scaling the data Set"
      ]
    },
    {
      "cell_type": "code",
      "execution_count": 16,
      "id": "4ad6feb6",
      "metadata": {
        "id": "4ad6feb6"
      },
      "outputs": [],
      "source": [
        "from sklearn.preprocessing import StandardScaler\n",
        "sc=StandardScaler()\n",
        "X_train_s=sc.fit_transform(X_train)\n",
        "X_test_s=sc.transform(X_test)"
      ]
    },
    {
      "cell_type": "markdown",
      "id": "51a870ca",
      "metadata": {
        "id": "51a870ca"
      },
      "source": [
        "Training the model:\n",
        "Using Keras"
      ]
    },
    {
      "cell_type": "code",
      "execution_count": 17,
      "id": "0a041cfc",
      "metadata": {
        "id": "0a041cfc"
      },
      "outputs": [],
      "source": [
        "model = tf.keras.models.Sequential()\n",
        "model.add(tf.keras.layers.Dense(8, activation='relu', input_shape = (9,))) \n",
        "model.add(tf.keras.layers.Dense(8, activation = \"sigmoid\"))"
      ]
    },
    {
      "cell_type": "code",
      "source": [
        "model.compile(optimizer='adam', loss = 'sparse_categorical_crossentropy', metrics = 'accuracy')"
      ],
      "metadata": {
        "id": "PuyCqOHIPWwF"
      },
      "id": "PuyCqOHIPWwF",
      "execution_count": 18,
      "outputs": []
    },
    {
      "cell_type": "markdown",
      "id": "714be4e8",
      "metadata": {
        "id": "714be4e8"
      },
      "source": [
        "Evaluating the model:\n",
        "Predicting the Test set results"
      ]
    },
    {
      "cell_type": "code",
      "source": [
        "model.summary()"
      ],
      "metadata": {
        "colab": {
          "base_uri": "https://localhost:8080/"
        },
        "id": "9p3cGy5vPlwf",
        "outputId": "b179dfbc-8a15-478d-bc20-4c8fdad919c4"
      },
      "id": "9p3cGy5vPlwf",
      "execution_count": 19,
      "outputs": [
        {
          "output_type": "stream",
          "name": "stdout",
          "text": [
            "Model: \"sequential\"\n",
            "_________________________________________________________________\n",
            " Layer (type)                Output Shape              Param #   \n",
            "=================================================================\n",
            " dense (Dense)               (None, 8)                 80        \n",
            "                                                                 \n",
            " dense_1 (Dense)             (None, 8)                 72        \n",
            "                                                                 \n",
            "=================================================================\n",
            "Total params: 152\n",
            "Trainable params: 152\n",
            "Non-trainable params: 0\n",
            "_________________________________________________________________\n"
          ]
        }
      ]
    },
    {
      "cell_type": "markdown",
      "source": [],
      "metadata": {
        "id": "voUc-H4_Py_i"
      },
      "id": "voUc-H4_Py_i"
    },
    {
      "cell_type": "code",
      "source": [
        "history = model.fit(X_train_s, y_train, batch_size = 8, epochs = 50, verbose = 2, validation_split=0.2)"
      ],
      "metadata": {
        "colab": {
          "base_uri": "https://localhost:8080/"
        },
        "id": "5W2nuBddPz4-",
        "outputId": "037c5f93-17e9-48ab-83d1-e4d3a6001fe5"
      },
      "id": "5W2nuBddPz4-",
      "execution_count": 20,
      "outputs": [
        {
          "output_type": "stream",
          "name": "stdout",
          "text": [
            "Epoch 1/50\n",
            "49/49 - 1s - loss: 2.1632 - accuracy: 0.1739 - val_loss: 1.8537 - val_accuracy: 0.4592 - 968ms/epoch - 20ms/step\n",
            "Epoch 2/50\n",
            "49/49 - 0s - loss: 1.6892 - accuracy: 0.5141 - val_loss: 1.4321 - val_accuracy: 0.6735 - 93ms/epoch - 2ms/step\n",
            "Epoch 3/50\n",
            "49/49 - 0s - loss: 1.3130 - accuracy: 0.7442 - val_loss: 1.0929 - val_accuracy: 0.8673 - 86ms/epoch - 2ms/step\n",
            "Epoch 4/50\n",
            "49/49 - 0s - loss: 0.9947 - accuracy: 0.8849 - val_loss: 0.8034 - val_accuracy: 0.9592 - 72ms/epoch - 1ms/step\n",
            "Epoch 5/50\n",
            "49/49 - 0s - loss: 0.7218 - accuracy: 0.9284 - val_loss: 0.5680 - val_accuracy: 0.9694 - 84ms/epoch - 2ms/step\n",
            "Epoch 6/50\n",
            "49/49 - 0s - loss: 0.5109 - accuracy: 0.9616 - val_loss: 0.4038 - val_accuracy: 0.9898 - 98ms/epoch - 2ms/step\n",
            "Epoch 7/50\n",
            "49/49 - 0s - loss: 0.3728 - accuracy: 0.9719 - val_loss: 0.2965 - val_accuracy: 0.9898 - 116ms/epoch - 2ms/step\n",
            "Epoch 8/50\n",
            "49/49 - 0s - loss: 0.2854 - accuracy: 0.9744 - val_loss: 0.2287 - val_accuracy: 0.9898 - 110ms/epoch - 2ms/step\n",
            "Epoch 9/50\n",
            "49/49 - 0s - loss: 0.2297 - accuracy: 0.9744 - val_loss: 0.1835 - val_accuracy: 0.9796 - 97ms/epoch - 2ms/step\n",
            "Epoch 10/50\n",
            "49/49 - 0s - loss: 0.1930 - accuracy: 0.9744 - val_loss: 0.1519 - val_accuracy: 0.9796 - 84ms/epoch - 2ms/step\n",
            "Epoch 11/50\n",
            "49/49 - 0s - loss: 0.1678 - accuracy: 0.9744 - val_loss: 0.1294 - val_accuracy: 0.9796 - 82ms/epoch - 2ms/step\n",
            "Epoch 12/50\n",
            "49/49 - 0s - loss: 0.1496 - accuracy: 0.9744 - val_loss: 0.1132 - val_accuracy: 0.9796 - 75ms/epoch - 2ms/step\n",
            "Epoch 13/50\n",
            "49/49 - 0s - loss: 0.1357 - accuracy: 0.9744 - val_loss: 0.0998 - val_accuracy: 0.9796 - 70ms/epoch - 1ms/step\n",
            "Epoch 14/50\n",
            "49/49 - 0s - loss: 0.1253 - accuracy: 0.9744 - val_loss: 0.0889 - val_accuracy: 0.9898 - 83ms/epoch - 2ms/step\n",
            "Epoch 15/50\n",
            "49/49 - 0s - loss: 0.1169 - accuracy: 0.9744 - val_loss: 0.0809 - val_accuracy: 0.9898 - 72ms/epoch - 1ms/step\n",
            "Epoch 16/50\n",
            "49/49 - 0s - loss: 0.1103 - accuracy: 0.9770 - val_loss: 0.0741 - val_accuracy: 0.9898 - 71ms/epoch - 1ms/step\n",
            "Epoch 17/50\n",
            "49/49 - 0s - loss: 0.1045 - accuracy: 0.9770 - val_loss: 0.0688 - val_accuracy: 0.9898 - 83ms/epoch - 2ms/step\n",
            "Epoch 18/50\n",
            "49/49 - 0s - loss: 0.0996 - accuracy: 0.9770 - val_loss: 0.0639 - val_accuracy: 0.9898 - 92ms/epoch - 2ms/step\n",
            "Epoch 19/50\n",
            "49/49 - 0s - loss: 0.0954 - accuracy: 0.9795 - val_loss: 0.0600 - val_accuracy: 0.9898 - 78ms/epoch - 2ms/step\n",
            "Epoch 20/50\n",
            "49/49 - 0s - loss: 0.0917 - accuracy: 0.9795 - val_loss: 0.0564 - val_accuracy: 0.9898 - 68ms/epoch - 1ms/step\n",
            "Epoch 21/50\n",
            "49/49 - 0s - loss: 0.0882 - accuracy: 0.9795 - val_loss: 0.0535 - val_accuracy: 0.9898 - 72ms/epoch - 1ms/step\n",
            "Epoch 22/50\n",
            "49/49 - 0s - loss: 0.0851 - accuracy: 0.9795 - val_loss: 0.0510 - val_accuracy: 0.9898 - 77ms/epoch - 2ms/step\n",
            "Epoch 23/50\n",
            "49/49 - 0s - loss: 0.0824 - accuracy: 0.9795 - val_loss: 0.0490 - val_accuracy: 0.9898 - 69ms/epoch - 1ms/step\n",
            "Epoch 24/50\n",
            "49/49 - 0s - loss: 0.0799 - accuracy: 0.9795 - val_loss: 0.0465 - val_accuracy: 0.9898 - 69ms/epoch - 1ms/step\n",
            "Epoch 25/50\n",
            "49/49 - 0s - loss: 0.0777 - accuracy: 0.9795 - val_loss: 0.0449 - val_accuracy: 0.9898 - 75ms/epoch - 2ms/step\n",
            "Epoch 26/50\n",
            "49/49 - 0s - loss: 0.0755 - accuracy: 0.9795 - val_loss: 0.0431 - val_accuracy: 0.9898 - 76ms/epoch - 2ms/step\n",
            "Epoch 27/50\n",
            "49/49 - 0s - loss: 0.0736 - accuracy: 0.9795 - val_loss: 0.0418 - val_accuracy: 0.9898 - 68ms/epoch - 1ms/step\n",
            "Epoch 28/50\n",
            "49/49 - 0s - loss: 0.0717 - accuracy: 0.9795 - val_loss: 0.0402 - val_accuracy: 0.9898 - 69ms/epoch - 1ms/step\n",
            "Epoch 29/50\n",
            "49/49 - 0s - loss: 0.0700 - accuracy: 0.9795 - val_loss: 0.0392 - val_accuracy: 0.9898 - 71ms/epoch - 1ms/step\n",
            "Epoch 30/50\n",
            "49/49 - 0s - loss: 0.0685 - accuracy: 0.9795 - val_loss: 0.0382 - val_accuracy: 0.9898 - 168ms/epoch - 3ms/step\n",
            "Epoch 31/50\n",
            "49/49 - 0s - loss: 0.0668 - accuracy: 0.9795 - val_loss: 0.0373 - val_accuracy: 0.9898 - 146ms/epoch - 3ms/step\n",
            "Epoch 32/50\n",
            "49/49 - 0s - loss: 0.0655 - accuracy: 0.9795 - val_loss: 0.0362 - val_accuracy: 0.9898 - 126ms/epoch - 3ms/step\n",
            "Epoch 33/50\n",
            "49/49 - 0s - loss: 0.0640 - accuracy: 0.9770 - val_loss: 0.0352 - val_accuracy: 0.9898 - 113ms/epoch - 2ms/step\n",
            "Epoch 34/50\n",
            "49/49 - 0s - loss: 0.0629 - accuracy: 0.9770 - val_loss: 0.0345 - val_accuracy: 0.9898 - 143ms/epoch - 3ms/step\n",
            "Epoch 35/50\n",
            "49/49 - 0s - loss: 0.0618 - accuracy: 0.9770 - val_loss: 0.0344 - val_accuracy: 0.9898 - 148ms/epoch - 3ms/step\n",
            "Epoch 36/50\n",
            "49/49 - 0s - loss: 0.0604 - accuracy: 0.9770 - val_loss: 0.0333 - val_accuracy: 0.9898 - 120ms/epoch - 2ms/step\n",
            "Epoch 37/50\n",
            "49/49 - 0s - loss: 0.0595 - accuracy: 0.9770 - val_loss: 0.0328 - val_accuracy: 0.9898 - 127ms/epoch - 3ms/step\n",
            "Epoch 38/50\n",
            "49/49 - 0s - loss: 0.0585 - accuracy: 0.9770 - val_loss: 0.0318 - val_accuracy: 0.9898 - 119ms/epoch - 2ms/step\n",
            "Epoch 39/50\n",
            "49/49 - 0s - loss: 0.0577 - accuracy: 0.9770 - val_loss: 0.0316 - val_accuracy: 0.9898 - 169ms/epoch - 3ms/step\n",
            "Epoch 40/50\n",
            "49/49 - 0s - loss: 0.0569 - accuracy: 0.9795 - val_loss: 0.0307 - val_accuracy: 0.9898 - 106ms/epoch - 2ms/step\n",
            "Epoch 41/50\n",
            "49/49 - 0s - loss: 0.0559 - accuracy: 0.9795 - val_loss: 0.0303 - val_accuracy: 0.9898 - 129ms/epoch - 3ms/step\n",
            "Epoch 42/50\n",
            "49/49 - 0s - loss: 0.0552 - accuracy: 0.9795 - val_loss: 0.0299 - val_accuracy: 0.9898 - 190ms/epoch - 4ms/step\n",
            "Epoch 43/50\n",
            "49/49 - 0s - loss: 0.0545 - accuracy: 0.9795 - val_loss: 0.0297 - val_accuracy: 0.9898 - 115ms/epoch - 2ms/step\n",
            "Epoch 44/50\n",
            "49/49 - 0s - loss: 0.0539 - accuracy: 0.9795 - val_loss: 0.0294 - val_accuracy: 0.9898 - 150ms/epoch - 3ms/step\n",
            "Epoch 45/50\n",
            "49/49 - 0s - loss: 0.0535 - accuracy: 0.9795 - val_loss: 0.0282 - val_accuracy: 0.9898 - 126ms/epoch - 3ms/step\n",
            "Epoch 46/50\n",
            "49/49 - 0s - loss: 0.0526 - accuracy: 0.9795 - val_loss: 0.0285 - val_accuracy: 0.9898 - 120ms/epoch - 2ms/step\n",
            "Epoch 47/50\n",
            "49/49 - 0s - loss: 0.0523 - accuracy: 0.9795 - val_loss: 0.0280 - val_accuracy: 0.9898 - 96ms/epoch - 2ms/step\n",
            "Epoch 48/50\n",
            "49/49 - 0s - loss: 0.0516 - accuracy: 0.9795 - val_loss: 0.0277 - val_accuracy: 0.9898 - 103ms/epoch - 2ms/step\n",
            "Epoch 49/50\n",
            "49/49 - 0s - loss: 0.0511 - accuracy: 0.9821 - val_loss: 0.0275 - val_accuracy: 0.9898 - 158ms/epoch - 3ms/step\n",
            "Epoch 50/50\n",
            "49/49 - 0s - loss: 0.0507 - accuracy: 0.9795 - val_loss: 0.0272 - val_accuracy: 0.9898 - 137ms/epoch - 3ms/step\n"
          ]
        }
      ]
    },
    {
      "cell_type": "code",
      "execution_count": 21,
      "id": "b5e8e789",
      "metadata": {
        "id": "b5e8e789"
      },
      "outputs": [],
      "source": [
        "accuracy = history.history['accuracy']\n",
        "validation_accuracy = history.history['val_accuracy']"
      ]
    },
    {
      "cell_type": "code",
      "execution_count": 22,
      "id": "5d81cd9a",
      "metadata": {
        "colab": {
          "base_uri": "https://localhost:8080/",
          "height": 298
        },
        "id": "5d81cd9a",
        "outputId": "1c63c422-6d6f-4cb2-d02f-3815d5e068b9"
      },
      "outputs": [
        {
          "output_type": "execute_result",
          "data": {
            "text/plain": [
              "<matplotlib.legend.Legend at 0x7fa0296e8390>"
            ]
          },
          "metadata": {},
          "execution_count": 22
        },
        {
          "output_type": "display_data",
          "data": {
            "text/plain": [
              "<Figure size 432x288 with 1 Axes>"
            ],
            "image/png": "[encoded data removed]"
          },
          "metadata": {}
        }
      ],
      "source": [
        "plt.plot(accuracy, label = 'Training Set Accuracy')\n",
        "plt.plot(validation_accuracy, label = 'Validation Set Accuracy')\n",
        "plt.ylabel('Accuracy')\n",
        "plt.ylim([min(plt.ylim()), 1])\n",
        "plt.title('Training and Validation Accuracy Across Epochs')\n",
        "plt.legend()"
      ]
    },
    {
      "cell_type": "code",
      "execution_count": 23,
      "id": "645c8060",
      "metadata": {
        "colab": {
          "base_uri": "https://localhost:8080/",
          "height": 298
        },
        "id": "645c8060",
        "outputId": "c31b1af0-fd15-4e94-f027-d248f0af8a03"
      },
      "outputs": [
        {
          "output_type": "execute_result",
          "data": {
            "text/plain": [
              "<matplotlib.legend.Legend at 0x7fa02dd60190>"
            ]
          },
          "metadata": {},
          "execution_count": 23
        },
        {
          "output_type": "display_data",
          "data": {
            "text/plain": [
              "<Figure size 432x288 with 1 Axes>"
            ],
            "image/png": "[encoded data removed]"
          },
          "metadata": {}
        }
      ],
      "source": [
        "loss = history.history['loss']\n",
        "validation_loss = history.history['val_loss']\n",
        "\n",
        "plt.plot(loss, label = 'Training Set Loss')\n",
        "plt.plot(validation_loss, label = 'Validation Set Loss')\n",
        "plt.ylabel('Loss')\n",
        "plt.title('Training and Validation Accuracy Across Epochs')\n",
        "plt.legend()"
      ]
    },
    {
      "cell_type": "code",
      "execution_count": 24,
      "id": "234ed4f0",
      "metadata": {
        "id": "234ed4f0"
      },
      "outputs": [],
      "source": [
        "from sklearn.metrics import confusion_matrix, classification_report"
      ]
    },
    {
      "cell_type": "code",
      "execution_count": 25,
      "id": "abb87a0d",
      "metadata": {
        "colab": {
          "base_uri": "https://localhost:8080/"
        },
        "id": "abb87a0d",
        "outputId": "76518ec2-3f4d-4f1a-9e75-50676e3f945a"
      },
      "outputs": [
        {
          "output_type": "stream",
          "name": "stdout",
          "text": [
            "7/7 [==============================] - 0s 2ms/step\n"
          ]
        }
      ],
      "source": [
        "y_pred = model.predict(X_test_s)\n",
        "y_pred = y_pred.argmax(axis = 1)"
      ]
    },
    {
      "cell_type": "code",
      "source": [
        "confusion_matrix = confusion_matrix(y_test, y_pred)"
      ],
      "metadata": {
        "id": "AAiM8J3kQvAf"
      },
      "id": "AAiM8J3kQvAf",
      "execution_count": 26,
      "outputs": []
    },
    {
      "cell_type": "code",
      "source": [
        "ax = sns.heatmap(confusion_matrix, cmap = 'flare', annot = True, fmt = 'd')\n",
        "plt.xlabel(\"Predicted Class\",fontsize=12) \n",
        "plt.ylabel(\"True Class\",fontsize=12) \n",
        "plt.title(\"Confusion Matrix\",fontsize=12) \n",
        "plt.show()"
      ],
      "metadata": {
        "colab": {
          "base_uri": "https://localhost:8080/",
          "height": 298
        },
        "id": "_QauP0szRD97",
        "outputId": "9c624b06-693c-4aa7-b43d-140bbf4d412a"
      },
      "id": "_QauP0szRD97",
      "execution_count": 27,
      "outputs": [
        {
          "output_type": "display_data",
          "data": {
            "text/plain": [
              "<Figure size 432x288 with 2 Axes>"
            ],
            "image/png": "[encoded data removed]"
          },
          "metadata": {}
        }
      ]
    },
    {
      "cell_type": "code",
      "source": [
        "print(classification_report(y_test, y_pred))"
      ],
      "metadata": {
        "colab": {
          "base_uri": "https://localhost:8080/"
        },
        "id": "X7P_cD7nQ_1I",
        "outputId": "2ac43f82-b1f2-40ab-ddad-fb54ffe1a3ac"
      },
      "id": "X7P_cD7nQ_1I",
      "execution_count": 28,
      "outputs": [
        {
          "output_type": "stream",
          "name": "stdout",
          "text": [
            "              precision    recall  f1-score   support\n",
            "\n",
            "           2       0.97      0.96      0.96       135\n",
            "           4       0.92      0.95      0.93        75\n",
            "\n",
            "    accuracy                           0.95       210\n",
            "   macro avg       0.95      0.95      0.95       210\n",
            "weighted avg       0.95      0.95      0.95       210\n",
            "\n"
          ]
        }
      ]
    },
    {
      "cell_type": "code",
      "source": [],
      "metadata": {
        "id": "EuqqWrTkRLlp"
      },
      "id": "EuqqWrTkRLlp",
      "execution_count": 28,
      "outputs": []
    }
  ],
  "metadata": {
    "kernelspec": {
      "display_name": "Python 3 (ipykernel)",
      "language": "python",
      "name": "python3"
    },
    "language_info": {
      "codemirror_mode": {
        "name": "ipython",
        "version": 3
      },
      "file_extension": ".py",
      "mimetype": "text/x-python",
      "name": "python",
      "nbconvert_exporter": "python",
      "pygments_lexer": "ipython3",
      "version": "3.9.12"
    },
    "colab": {
      "provenance": [],
      "collapsed_sections": []
    }
  },
  "nbformat": 4,
  "nbformat_minor": 5
}
{
  "nbformat": 4,
  "nbformat_minor": 0,
  "metadata": {
    "colab": {
      "provenance": [],
      "authorship_tag": "ABX9TyMxqj/U2ZrI84VqWZCnwPt3",
      "include_colab_link": true
    },
    "kernelspec": {
      "name": "python3",
      "display_name": "Python 3"
    },
    "language_info": {
      "name": "python"
    }
  },
  "cells": [
    {
      "cell_type": "markdown",
      "metadata": {
        "id": "view-in-github",
        "colab_type": "text"
      },
      "source": [
        "<a href=\"https://colab.research.google.com/github/websiteprofs/python/blob/main/MNIST_CNN_Example.ipynb\" target=\"_parent\"><img src=\"https://colab.research.google.com/assets/colab-badge.svg\" alt=\"Open In Colab\"/></a>"
      ]
    },
    {
      "cell_type": "code",
      "execution_count": null,
      "metadata": {
        "id": "FlXCyR6t0plS"
      },
      "outputs": [],
      "source": []
    },
    {
      "cell_type": "markdown",
      "source": [
        "Import the data set"
      ],
      "metadata": {
        "id": "_9d9OTTp3jPQ"
      }
    },
    {
      "cell_type": "code",
      "source": [
        "from keras.datasets import mnist\n",
        "(train_data, train_label_data), (test_data, test_label_data) = mnist.load_data()"
      ],
      "metadata": {
        "id": "ZZSzlit10463"
      },
      "execution_count": 1,
      "outputs": []
    },
    {
      "cell_type": "markdown",
      "source": [
        "Check the shape of the data"
      ],
      "metadata": {
        "id": "3VzUBcGK3wLu"
      }
    },
    {
      "cell_type": "code",
      "source": [
        "train_data.shape, test_data.shape"
      ],
      "metadata": {
        "colab": {
          "base_uri": "https://localhost:8080/"
        },
        "id": "1F_gK9mf1f93",
        "outputId": "261f300e-e0a3-41c8-b0c0-c76cbcea53a7"
      },
      "execution_count": 2,
      "outputs": [
        {
          "output_type": "execute_result",
          "data": {
            "text/plain": [
              "((60000, 28, 28), (10000, 28, 28))"
            ]
          },
          "metadata": {},
          "execution_count": 2
        }
      ]
    },
    {
      "cell_type": "markdown",
      "source": [
        "Reshape the data to 1D and normalize by dividing with 255, so the dataset can be used"
      ],
      "metadata": {
        "id": "bFNa4sec34WD"
      }
    },
    {
      "cell_type": "code",
      "source": [
        "train_images = train_data.reshape((60000, 28,28,1))\n",
        "train_images = train_images.astype('float32')/255\n",
        "\n",
        "test_images = test_data.reshape((10000, 28,28,1))\n",
        "test_images = test_images.astype('float32')/255\n",
        "\n",
        "print(test_images.shape)"
      ],
      "metadata": {
        "colab": {
          "base_uri": "https://localhost:8080/"
        },
        "id": "-Wcg8Z5d1vVc",
        "outputId": "a7163ff4-a23a-4df7-d523-83785951f88b"
      },
      "execution_count": 3,
      "outputs": [
        {
          "output_type": "stream",
          "name": "stdout",
          "text": [
            "(10000, 28, 28, 1)\n"
          ]
        }
      ]
    },
    {
      "cell_type": "code",
      "source": [
        "print(train_images.shape)"
      ],
      "metadata": {
        "colab": {
          "base_uri": "https://localhost:8080/"
        },
        "id": "6bAQbXh03Qxh",
        "outputId": "511f0420-34dd-4654-d315-d91b9b06feab"
      },
      "execution_count": 4,
      "outputs": [
        {
          "output_type": "stream",
          "name": "stdout",
          "text": [
            "(60000, 28, 28, 1)\n"
          ]
        }
      ]
    },
    {
      "cell_type": "markdown",
      "source": [
        "Use one hot Encoding to convert the training and test labels to categorical variables"
      ],
      "metadata": {
        "id": "YhO4GkAV4PZq"
      }
    },
    {
      "cell_type": "code",
      "source": [
        "from keras.utils import to_categorical\n",
        "\n",
        "train_labels = to_categorical(train_label_data)\n",
        "test_labels = to_categorical(test_label_data)"
      ],
      "metadata": {
        "id": "dMJabmZB3WN1"
      },
      "execution_count": 5,
      "outputs": []
    },
    {
      "cell_type": "markdown",
      "source": [
        "Design the network Structure"
      ],
      "metadata": {
        "id": "psYkHuGb5DFw"
      }
    },
    {
      "cell_type": "code",
      "source": [
        "from keras import models, layers\n",
        "\n",
        "network = models.Sequential()\n",
        "\n",
        "network.add(layers.Conv2D(32, (3,3), activation ='relu', input_shape = (28, 28, 1)))\n",
        "network.add(layers.MaxPool2D((2,2)))\n",
        "network.add(layers.Conv2D(64, (3,3), activation ='relu', input_shape = (28, 28, 1)))\n",
        "network.add(layers.MaxPool2D((2,2)))\n",
        "network.add(layers.Conv2D(64, (3,3), activation ='relu', input_shape = (28, 28, 1)))\n",
        "network.add(layers.Flatten())\n",
        "network.add(layers.Dense(64, activation = 'relu'))\n",
        "network.add(layers.Dense(10, activation = 'softmax'))"
      ],
      "metadata": {
        "id": "OA3onWqN6Irb"
      },
      "execution_count": 6,
      "outputs": []
    },
    {
      "cell_type": "markdown",
      "source": [
        "Check the summary of the network we have added"
      ],
      "metadata": {
        "id": "rZRchm-J8NFc"
      }
    },
    {
      "cell_type": "code",
      "source": [
        "network.summary()"
      ],
      "metadata": {
        "colab": {
          "base_uri": "https://localhost:8080/"
        },
        "id": "lgbJqPRC8R6X",
        "outputId": "4f20a151-9f32-4149-be71-40119b4073b9"
      },
      "execution_count": 7,
      "outputs": [
        {
          "output_type": "stream",
          "name": "stdout",
          "text": [
            "Model: \"sequential\"\n",
            "_________________________________________________________________\n",
            " Layer (type)                Output Shape              Param #   \n",
            "=================================================================\n",
            " conv2d (Conv2D)             (None, 26, 26, 32)        320       \n",
            "                                                                 \n",
            " max_pooling2d (MaxPooling2D  (None, 13, 13, 32)       0         \n",
            " )                                                               \n",
            "                                                                 \n",
            " conv2d_1 (Conv2D)           (None, 11, 11, 64)        18496     \n",
            "                                                                 \n",
            " max_pooling2d_1 (MaxPooling  (None, 5, 5, 64)         0         \n",
            " 2D)                                                             \n",
            "                                                                 \n",
            " conv2d_2 (Conv2D)           (None, 3, 3, 64)          36928     \n",
            "                                                                 \n",
            " flatten (Flatten)           (None, 576)               0         \n",
            "                                                                 \n",
            " dense (Dense)               (None, 64)                36928     \n",
            "                                                                 \n",
            " dense_1 (Dense)             (None, 10)                650       \n",
            "                                                                 \n",
            "=================================================================\n",
            "Total params: 93,322\n",
            "Trainable params: 93,322\n",
            "Non-trainable params: 0\n",
            "_________________________________________________________________\n"
          ]
        }
      ]
    },
    {
      "cell_type": "markdown",
      "source": [
        "Compile the network created"
      ],
      "metadata": {
        "id": "TcMO3ECT9lOB"
      }
    },
    {
      "cell_type": "code",
      "source": [
        "network.compile(optimizer= 'rmsprop', loss= 'categorical_crossentropy', metrics= ['accuracy'])"
      ],
      "metadata": {
        "id": "Tm5ULayn9nZT"
      },
      "execution_count": 8,
      "outputs": []
    },
    {
      "cell_type": "markdown",
      "source": [
        "Train the network"
      ],
      "metadata": {
        "id": "i-OzJPAM-kqg"
      }
    },
    {
      "cell_type": "code",
      "source": [
        "network.fit(train_images, train_labels, epochs = 4, batch_size= 64)"
      ],
      "metadata": {
        "colab": {
          "base_uri": "https://localhost:8080/"
        },
        "id": "pN4Wgs_4-nG1",
        "outputId": "f199d604-837e-453f-962b-fcd40354f7e0"
      },
      "execution_count": 9,
      "outputs": [
        {
          "output_type": "stream",
          "name": "stdout",
          "text": [
            "Epoch 1/4\n",
            "938/938 [==============================] - 69s 71ms/step - loss: 0.1737 - accuracy: 0.9459\n",
            "Epoch 2/4\n",
            "938/938 [==============================] - 63s 67ms/step - loss: 0.0470 - accuracy: 0.9852\n",
            "Epoch 3/4\n",
            "938/938 [==============================] - 63s 67ms/step - loss: 0.0325 - accuracy: 0.9900\n",
            "Epoch 4/4\n",
            "938/938 [==============================] - 63s 67ms/step - loss: 0.0238 - accuracy: 0.9926\n"
          ]
        },
        {
          "output_type": "execute_result",
          "data": {
            "text/plain": [
              "<keras.callbacks.History at 0x7fee4f0c0250>"
            ]
          },
          "metadata": {},
          "execution_count": 9
        }
      ]
    },
    {
      "cell_type": "markdown",
      "source": [
        "Check for the accuracy of the network created designed"
      ],
      "metadata": {
        "id": "IBSF-7Ww_1nZ"
      }
    },
    {
      "cell_type": "code",
      "source": [
        "test_loss, test_acc = network.evaluate(test_images, test_labels)\n",
        "\n",
        "print(test_acc)"
      ],
      "metadata": {
        "colab": {
          "base_uri": "https://localhost:8080/"
        },
        "id": "tqp1ZTX8ALC5",
        "outputId": "5758b2f3-b499-479c-9bb1-37f943586931"
      },
      "execution_count": 10,
      "outputs": [
        {
          "output_type": "stream",
          "name": "stdout",
          "text": [
            "313/313 [==============================] - 4s 11ms/step - loss: 0.0221 - accuracy: 0.9924\n",
            "0.9923999905586243\n"
          ]
        }
      ]
    },
    {
      "cell_type": "markdown",
      "source": [
        "We could see that our network can 99.099 accurately predict a given input "
      ],
      "metadata": {
        "id": "FILkqT3xAeX-"
      }
    },
    {
      "cell_type": "code",
      "source": [],
      "metadata": {
        "id": "8FdCHgGSArZT"
      },
      "execution_count": 10,
      "outputs": []
    }
  ]
}